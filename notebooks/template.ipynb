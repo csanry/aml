{
 "cells": [
  {
   "cell_type": "code",
   "execution_count": 78,
   "metadata": {},
   "outputs": [],
   "source": [
    "# base \n",
    "import os \n",
    "import sys\n",
    "from src import helpers, config\n",
    "import random \n",
    "import json \n",
    "import numpy as np\n",
    "import pandas as pd \n",
    "import pandas.api.types as types\n",
    "import matplotlib.pyplot as plt\n",
    "import matplotlib as mpl\n",
    "import seaborn as sns\n",
    "import missingno as msno\n",
    "import pickle as pkl\n",
    "from urllib.request import urlretrieve \n",
    "from typing import List, Set, Dict, Tuple\n",
    "from typing import Union, Any, Optional, Iterable, Hashable\n",
    "\n",
    "# ml preprocessing \n",
    "from sklearn.preprocessing import OneHotEncoder, LabelEncoder, StandardScaler, MinMaxScaler\n",
    "\n",
    "import xgboost as xgb\n",
    "from sklearn.ensemble import AdaBoostClassifier, VotingClassifier\n",
    "\n",
    "\n",
    "# validation \n",
    "from sklearn.model_selection import GridSearchCV, RandomizedSearchCV, train_test_split, cross_validate, KFold, StratifiedKFold\n",
    "from sklearn.metrics import accuracy_score, classification_report, confusion_matrix, f1_score, roc_curve, roc_auc_score, precision_score, recall_score, plot_confusion_matrix\n",
    "\n",
    "# pipelines \n",
    "from sklearn.pipeline import Pipeline\n",
    "from sklearn.metrics import make_scorer"
   ]
  },
  {
   "cell_type": "code",
   "execution_count": 59,
   "metadata": {},
   "outputs": [
    {
     "data": {
      "text/plain": [
       "'/home/sanc/data/final'"
      ]
     },
     "execution_count": 59,
     "metadata": {},
     "output_type": "execute_result"
    }
   ],
   "source": [
    "# test\n",
    "config.TRAIN_FILE_PATH\n"
   ]
  },
  {
   "cell_type": "code",
   "execution_count": 64,
   "metadata": {},
   "outputs": [
    {
     "ename": "AttributeError",
     "evalue": "module 'src.config' has no attribute 'REPORTS_PATH'",
     "output_type": "error",
     "traceback": [
      "\u001b[0;31m---------------------------------------------------------------------------\u001b[0m",
      "\u001b[0;31mAttributeError\u001b[0m                            Traceback (most recent call last)",
      "\u001b[1;32m/mnt/c/Users/SanC/projs/aml/notebooks/template.ipynb Cell 3'\u001b[0m in \u001b[0;36m<cell line: 1>\u001b[0;34m()\u001b[0m\n\u001b[0;32m----> <a href='vscode-notebook-cell://wsl%2Bubuntu/mnt/c/Users/SanC/projs/aml/notebooks/template.ipynb#ch0000035vscode-remote?line=0'>1</a>\u001b[0m config\u001b[39m.\u001b[39;49mREPORTS_PATH\n",
      "\u001b[0;31mAttributeError\u001b[0m: module 'src.config' has no attribute 'REPORTS_PATH'"
     ]
    }
   ],
   "source": [
    "config.REPORTS_PATH"
   ]
  },
  {
   "cell_type": "code",
   "execution_count": 9,
   "metadata": {},
   "outputs": [],
   "source": [
    "%matplotlib inline \n",
    "sns.set_style('white')\n",
    "sns.set_palette('deep')"
   ]
  },
  {
   "cell_type": "code",
   "execution_count": 74,
   "metadata": {},
   "outputs": [
    {
     "data": {
      "text/plain": [
       "pandas.core.frame.DataFrame"
      ]
     },
     "execution_count": 74,
     "metadata": {},
     "output_type": "execute_result"
    }
   ],
   "source": [
    "# the iris dataset is used as a toy df \n",
    "from sklearn.datasets import fetch_openml\n",
    "\n",
    "iris = fetch_openml(name=\"iris\", version=1, as_frame=True)\n",
    "\n",
    "df = iris['data']\n",
    "df_target = iris['target']\n",
    "df = pd.concat([df, df_target], axis=1)\n",
    "type(df)"
   ]
  },
  {
   "cell_type": "code",
   "execution_count": 82,
   "metadata": {},
   "outputs": [
    {
     "name": "stdout",
     "output_type": "stream",
     "text": [
      "DATAFRAME HAS 150 ROWS AND 5 COLS\n",
      "<class 'pandas.core.frame.DataFrame'>\n",
      "RangeIndex: 150 entries, 0 to 149\n",
      "Data columns (total 5 columns):\n",
      " #   Column       Non-Null Count  Dtype   \n",
      "---  ------       --------------  -----   \n",
      " 0   sepallength  150 non-null    float64 \n",
      " 1   sepalwidth   150 non-null    float64 \n",
      " 2   petallength  150 non-null    float64 \n",
      " 3   petalwidth   150 non-null    float64 \n",
      " 4   class        150 non-null    category\n",
      "dtypes: category(1), float64(4)\n",
      "memory usage: 5.1 KB\n",
      "None\n"
     ]
    },
    {
     "data": {
      "text/html": [
       "<div>\n",
       "<style scoped>\n",
       "    .dataframe tbody tr th:only-of-type {\n",
       "        vertical-align: middle;\n",
       "    }\n",
       "\n",
       "    .dataframe tbody tr th {\n",
       "        vertical-align: top;\n",
       "    }\n",
       "\n",
       "    .dataframe thead th {\n",
       "        text-align: right;\n",
       "    }\n",
       "</style>\n",
       "<table border=\"1\" class=\"dataframe\">\n",
       "  <thead>\n",
       "    <tr style=\"text-align: right;\">\n",
       "      <th></th>\n",
       "      <th>count</th>\n",
       "      <th>mean</th>\n",
       "      <th>std</th>\n",
       "      <th>min</th>\n",
       "      <th>25%</th>\n",
       "      <th>50%</th>\n",
       "      <th>75%</th>\n",
       "      <th>max</th>\n",
       "    </tr>\n",
       "  </thead>\n",
       "  <tbody>\n",
       "    <tr>\n",
       "      <th>sepallength</th>\n",
       "      <td>150.0</td>\n",
       "      <td>5.843333</td>\n",
       "      <td>0.828066</td>\n",
       "      <td>4.3</td>\n",
       "      <td>5.1</td>\n",
       "      <td>5.80</td>\n",
       "      <td>6.4</td>\n",
       "      <td>7.9</td>\n",
       "    </tr>\n",
       "    <tr>\n",
       "      <th>sepalwidth</th>\n",
       "      <td>150.0</td>\n",
       "      <td>3.054000</td>\n",
       "      <td>0.433594</td>\n",
       "      <td>2.0</td>\n",
       "      <td>2.8</td>\n",
       "      <td>3.00</td>\n",
       "      <td>3.3</td>\n",
       "      <td>4.4</td>\n",
       "    </tr>\n",
       "    <tr>\n",
       "      <th>petallength</th>\n",
       "      <td>150.0</td>\n",
       "      <td>3.758667</td>\n",
       "      <td>1.764420</td>\n",
       "      <td>1.0</td>\n",
       "      <td>1.6</td>\n",
       "      <td>4.35</td>\n",
       "      <td>5.1</td>\n",
       "      <td>6.9</td>\n",
       "    </tr>\n",
       "    <tr>\n",
       "      <th>petalwidth</th>\n",
       "      <td>150.0</td>\n",
       "      <td>1.198667</td>\n",
       "      <td>0.763161</td>\n",
       "      <td>0.1</td>\n",
       "      <td>0.3</td>\n",
       "      <td>1.30</td>\n",
       "      <td>1.8</td>\n",
       "      <td>2.5</td>\n",
       "    </tr>\n",
       "  </tbody>\n",
       "</table>\n",
       "</div>"
      ],
      "text/plain": [
       "             count      mean       std  min  25%   50%  75%  max\n",
       "sepallength  150.0  5.843333  0.828066  4.3  5.1  5.80  6.4  7.9\n",
       "sepalwidth   150.0  3.054000  0.433594  2.0  2.8  3.00  3.3  4.4\n",
       "petallength  150.0  3.758667  1.764420  1.0  1.6  4.35  5.1  6.9\n",
       "petalwidth   150.0  1.198667  0.763161  0.1  0.3  1.30  1.8  2.5"
      ]
     },
     "metadata": {},
     "output_type": "display_data"
    },
    {
     "data": {
      "text/html": [
       "<div>\n",
       "<style scoped>\n",
       "    .dataframe tbody tr th:only-of-type {\n",
       "        vertical-align: middle;\n",
       "    }\n",
       "\n",
       "    .dataframe tbody tr th {\n",
       "        vertical-align: top;\n",
       "    }\n",
       "\n",
       "    .dataframe thead th {\n",
       "        text-align: right;\n",
       "    }\n",
       "</style>\n",
       "<table border=\"1\" class=\"dataframe\">\n",
       "  <thead>\n",
       "    <tr style=\"text-align: right;\">\n",
       "      <th></th>\n",
       "      <th>sepallength</th>\n",
       "      <th>sepalwidth</th>\n",
       "      <th>petallength</th>\n",
       "      <th>petalwidth</th>\n",
       "      <th>class</th>\n",
       "    </tr>\n",
       "  </thead>\n",
       "  <tbody>\n",
       "    <tr>\n",
       "      <th>0</th>\n",
       "      <td>5.1</td>\n",
       "      <td>3.5</td>\n",
       "      <td>1.4</td>\n",
       "      <td>0.2</td>\n",
       "      <td>Iris-setosa</td>\n",
       "    </tr>\n",
       "    <tr>\n",
       "      <th>1</th>\n",
       "      <td>4.9</td>\n",
       "      <td>3.0</td>\n",
       "      <td>1.4</td>\n",
       "      <td>0.2</td>\n",
       "      <td>Iris-setosa</td>\n",
       "    </tr>\n",
       "    <tr>\n",
       "      <th>2</th>\n",
       "      <td>4.7</td>\n",
       "      <td>3.2</td>\n",
       "      <td>1.3</td>\n",
       "      <td>0.2</td>\n",
       "      <td>Iris-setosa</td>\n",
       "    </tr>\n",
       "    <tr>\n",
       "      <th>3</th>\n",
       "      <td>4.6</td>\n",
       "      <td>3.1</td>\n",
       "      <td>1.5</td>\n",
       "      <td>0.2</td>\n",
       "      <td>Iris-setosa</td>\n",
       "    </tr>\n",
       "    <tr>\n",
       "      <th>4</th>\n",
       "      <td>5.0</td>\n",
       "      <td>3.6</td>\n",
       "      <td>1.4</td>\n",
       "      <td>0.2</td>\n",
       "      <td>Iris-setosa</td>\n",
       "    </tr>\n",
       "  </tbody>\n",
       "</table>\n",
       "</div>"
      ],
      "text/plain": [
       "   sepallength  sepalwidth  petallength  petalwidth        class\n",
       "0          5.1         3.5          1.4         0.2  Iris-setosa\n",
       "1          4.9         3.0          1.4         0.2  Iris-setosa\n",
       "2          4.7         3.2          1.3         0.2  Iris-setosa\n",
       "3          4.6         3.1          1.5         0.2  Iris-setosa\n",
       "4          5.0         3.6          1.4         0.2  Iris-setosa"
      ]
     },
     "metadata": {},
     "output_type": "display_data"
    }
   ],
   "source": []
  },
  {
   "cell_type": "code",
   "execution_count": 83,
   "metadata": {},
   "outputs": [
    {
     "ename": "AttributeError",
     "evalue": "'Index' object has no attribute 'lower'",
     "output_type": "error",
     "traceback": [
      "\u001b[0;31m---------------------------------------------------------------------------\u001b[0m",
      "\u001b[0;31mAttributeError\u001b[0m                            Traceback (most recent call last)",
      "\u001b[1;32m/mnt/c/Users/SanC/projs/aml/notebooks/template.ipynb Cell 7'\u001b[0m in \u001b[0;36m<cell line: 1>\u001b[0;34m()\u001b[0m\n\u001b[0;32m----> <a href='vscode-notebook-cell://wsl%2Bubuntu/mnt/c/Users/SanC/projs/aml/notebooks/template.ipynb#ch0000045vscode-remote?line=0'>1</a>\u001b[0m df\u001b[39m.\u001b[39mcolumns \u001b[39m=\u001b[39m helpers\u001b[39m.\u001b[39;49mstandardize_cols(df\u001b[39m.\u001b[39;49mcolumns)\n\u001b[1;32m      <a href='vscode-notebook-cell://wsl%2Bubuntu/mnt/c/Users/SanC/projs/aml/notebooks/template.ipynb#ch0000045vscode-remote?line=1'>2</a>\u001b[0m df\u001b[39m.\u001b[39mcolumns\n",
      "File \u001b[0;32m/mnt/c/Users/SanC/projs/aml/src/helpers.py:151\u001b[0m, in \u001b[0;36mstandardize_cols\u001b[0;34m(col)\u001b[0m\n\u001b[1;32m    <a href='file:///mnt/c/Users/SanC/projs/aml/src/helpers.py?line=138'>139</a>\u001b[0m \u001b[39mdef\u001b[39;00m \u001b[39mset_up_fig\u001b[39m(rows: \u001b[39mint\u001b[39m\u001b[39m=\u001b[39m\u001b[39m1\u001b[39m) \u001b[39m-\u001b[39m\u001b[39m>\u001b[39m \u001b[39mNone\u001b[39;00m: \n\u001b[1;32m    <a href='file:///mnt/c/Users/SanC/projs/aml/src/helpers.py?line=139'>140</a>\u001b[0m     \u001b[39m\"\"\"\u001b[39;00m\n\u001b[1;32m    <a href='file:///mnt/c/Users/SanC/projs/aml/src/helpers.py?line=140'>141</a>\u001b[0m \n\u001b[1;32m    <a href='file:///mnt/c/Users/SanC/projs/aml/src/helpers.py?line=141'>142</a>\u001b[0m \u001b[39m    Parameters\u001b[39;00m\n\u001b[1;32m    <a href='file:///mnt/c/Users/SanC/projs/aml/src/helpers.py?line=142'>143</a>\u001b[0m \u001b[39m    ----------\u001b[39;00m\n\u001b[1;32m    <a href='file:///mnt/c/Users/SanC/projs/aml/src/helpers.py?line=143'>144</a>\u001b[0m \u001b[39m    rows : int :\u001b[39;00m\n\u001b[1;32m    <a href='file:///mnt/c/Users/SanC/projs/aml/src/helpers.py?line=144'>145</a>\u001b[0m \u001b[39m        (Default value = 1)\u001b[39;00m\n\u001b[1;32m    <a href='file:///mnt/c/Users/SanC/projs/aml/src/helpers.py?line=145'>146</a>\u001b[0m \u001b[39m    rows : int :\u001b[39;00m\n\u001b[1;32m    <a href='file:///mnt/c/Users/SanC/projs/aml/src/helpers.py?line=146'>147</a>\u001b[0m \u001b[39m        (Default value = 1)\u001b[39;00m\n\u001b[1;32m    <a href='file:///mnt/c/Users/SanC/projs/aml/src/helpers.py?line=147'>148</a>\u001b[0m \u001b[39m    rows: int :\u001b[39;00m\n\u001b[1;32m    <a href='file:///mnt/c/Users/SanC/projs/aml/src/helpers.py?line=148'>149</a>\u001b[0m \u001b[39m         (Default value = 1)\u001b[39;00m\n\u001b[1;32m    <a href='file:///mnt/c/Users/SanC/projs/aml/src/helpers.py?line=149'>150</a>\u001b[0m \n\u001b[0;32m--> <a href='file:///mnt/c/Users/SanC/projs/aml/src/helpers.py?line=150'>151</a>\u001b[0m \u001b[39m    Returns\u001b[39;00m\n\u001b[1;32m    <a href='file:///mnt/c/Users/SanC/projs/aml/src/helpers.py?line=151'>152</a>\u001b[0m \u001b[39m    -------\u001b[39;00m\n\u001b[1;32m    <a href='file:///mnt/c/Users/SanC/projs/aml/src/helpers.py?line=152'>153</a>\u001b[0m \n\u001b[1;32m    <a href='file:///mnt/c/Users/SanC/projs/aml/src/helpers.py?line=153'>154</a>\u001b[0m \u001b[39m    \u001b[39;00m\n\u001b[1;32m    <a href='file:///mnt/c/Users/SanC/projs/aml/src/helpers.py?line=154'>155</a>\u001b[0m \u001b[39m    \"\"\"\u001b[39;00m\n\u001b[1;32m    <a href='file:///mnt/c/Users/SanC/projs/aml/src/helpers.py?line=155'>156</a>\u001b[0m     fig, ax \u001b[39m=\u001b[39m plt\u001b[39m.\u001b[39msubplots(nrows\u001b[39m=\u001b[39m\u001b[39m1\u001b[39m, ncols\u001b[39m=\u001b[39m\u001b[39m1\u001b[39m, figsize\u001b[39m=\u001b[39m(\u001b[39m16\u001b[39m,\u001b[39m9\u001b[39m))\n\u001b[1;32m    <a href='file:///mnt/c/Users/SanC/projs/aml/src/helpers.py?line=156'>157</a>\u001b[0m     \u001b[39mfor\u001b[39;00m s \u001b[39min\u001b[39;00m [\u001b[39m'\u001b[39m\u001b[39mtop\u001b[39m\u001b[39m'\u001b[39m, \u001b[39m'\u001b[39m\u001b[39mright\u001b[39m\u001b[39m'\u001b[39m]: \n",
      "\u001b[0;31mAttributeError\u001b[0m: 'Index' object has no attribute 'lower'"
     ]
    }
   ],
   "source": [
    "df.columns = helpers.standardize_cols(df.columns)\n",
    "df.columns"
   ]
  },
  {
   "cell_type": "code",
   "execution_count": 85,
   "metadata": {},
   "outputs": [
    {
     "ename": "AttributeError",
     "evalue": "module 'src.helpers' has no attribute 'quick_plot'",
     "output_type": "error",
     "traceback": [
      "\u001b[0;31m---------------------------------------------------------------------------\u001b[0m",
      "\u001b[0;31mAttributeError\u001b[0m                            Traceback (most recent call last)",
      "\u001b[1;32m/mnt/c/Users/SanC/projs/aml/notebooks/template.ipynb Cell 8'\u001b[0m in \u001b[0;36m<cell line: 1>\u001b[0;34m()\u001b[0m\n\u001b[0;32m----> <a href='vscode-notebook-cell://wsl%2Bubuntu/mnt/c/Users/SanC/projs/aml/notebooks/template.ipynb#ch0000047vscode-remote?line=0'>1</a>\u001b[0m helpers\u001b[39m.\u001b[39;49mquick_plot(df)\n",
      "\u001b[0;31mAttributeError\u001b[0m: module 'src.helpers' has no attribute 'quick_plot'"
     ]
    }
   ],
   "source": [
    "helpers.quick_plot(df)"
   ]
  },
  {
   "cell_type": "markdown",
   "metadata": {},
   "source": [
    "### Statistics "
   ]
  },
  {
   "cell_type": "code",
   "execution_count": 68,
   "metadata": {},
   "outputs": [
    {
     "name": "stdout",
     "output_type": "stream",
     "text": [
      "DATAFRAME HAS 150 ROWS AND 5 COLS\n",
      "<class 'pandas.core.frame.DataFrame'>\n",
      "RangeIndex: 150 entries, 0 to 149\n",
      "Data columns (total 5 columns):\n",
      " #   Column       Non-Null Count  Dtype   \n",
      "---  ------       --------------  -----   \n",
      " 0   sepallength  150 non-null    float64 \n",
      " 1   sepalwidth   150 non-null    float64 \n",
      " 2   petallength  150 non-null    float64 \n",
      " 3   petalwidth   150 non-null    float64 \n",
      " 4   class        150 non-null    category\n",
      "dtypes: category(1), float64(4)\n",
      "memory usage: 5.1 KB\n",
      "None\n"
     ]
    },
    {
     "data": {
      "text/html": [
       "<div>\n",
       "<style scoped>\n",
       "    .dataframe tbody tr th:only-of-type {\n",
       "        vertical-align: middle;\n",
       "    }\n",
       "\n",
       "    .dataframe tbody tr th {\n",
       "        vertical-align: top;\n",
       "    }\n",
       "\n",
       "    .dataframe thead th {\n",
       "        text-align: right;\n",
       "    }\n",
       "</style>\n",
       "<table border=\"1\" class=\"dataframe\">\n",
       "  <thead>\n",
       "    <tr style=\"text-align: right;\">\n",
       "      <th></th>\n",
       "      <th>count</th>\n",
       "      <th>mean</th>\n",
       "      <th>std</th>\n",
       "      <th>min</th>\n",
       "      <th>25%</th>\n",
       "      <th>50%</th>\n",
       "      <th>75%</th>\n",
       "      <th>max</th>\n",
       "    </tr>\n",
       "  </thead>\n",
       "  <tbody>\n",
       "    <tr>\n",
       "      <th>sepallength</th>\n",
       "      <td>150.0</td>\n",
       "      <td>5.843333</td>\n",
       "      <td>0.828066</td>\n",
       "      <td>4.3</td>\n",
       "      <td>5.1</td>\n",
       "      <td>5.80</td>\n",
       "      <td>6.4</td>\n",
       "      <td>7.9</td>\n",
       "    </tr>\n",
       "    <tr>\n",
       "      <th>sepalwidth</th>\n",
       "      <td>150.0</td>\n",
       "      <td>3.054000</td>\n",
       "      <td>0.433594</td>\n",
       "      <td>2.0</td>\n",
       "      <td>2.8</td>\n",
       "      <td>3.00</td>\n",
       "      <td>3.3</td>\n",
       "      <td>4.4</td>\n",
       "    </tr>\n",
       "    <tr>\n",
       "      <th>petallength</th>\n",
       "      <td>150.0</td>\n",
       "      <td>3.758667</td>\n",
       "      <td>1.764420</td>\n",
       "      <td>1.0</td>\n",
       "      <td>1.6</td>\n",
       "      <td>4.35</td>\n",
       "      <td>5.1</td>\n",
       "      <td>6.9</td>\n",
       "    </tr>\n",
       "    <tr>\n",
       "      <th>petalwidth</th>\n",
       "      <td>150.0</td>\n",
       "      <td>1.198667</td>\n",
       "      <td>0.763161</td>\n",
       "      <td>0.1</td>\n",
       "      <td>0.3</td>\n",
       "      <td>1.30</td>\n",
       "      <td>1.8</td>\n",
       "      <td>2.5</td>\n",
       "    </tr>\n",
       "  </tbody>\n",
       "</table>\n",
       "</div>"
      ],
      "text/plain": [
       "             count      mean       std  min  25%   50%  75%  max\n",
       "sepallength  150.0  5.843333  0.828066  4.3  5.1  5.80  6.4  7.9\n",
       "sepalwidth   150.0  3.054000  0.433594  2.0  2.8  3.00  3.3  4.4\n",
       "petallength  150.0  3.758667  1.764420  1.0  1.6  4.35  5.1  6.9\n",
       "petalwidth   150.0  1.198667  0.763161  0.1  0.3  1.30  1.8  2.5"
      ]
     },
     "metadata": {},
     "output_type": "display_data"
    },
    {
     "data": {
      "text/html": [
       "<div>\n",
       "<style scoped>\n",
       "    .dataframe tbody tr th:only-of-type {\n",
       "        vertical-align: middle;\n",
       "    }\n",
       "\n",
       "    .dataframe tbody tr th {\n",
       "        vertical-align: top;\n",
       "    }\n",
       "\n",
       "    .dataframe thead th {\n",
       "        text-align: right;\n",
       "    }\n",
       "</style>\n",
       "<table border=\"1\" class=\"dataframe\">\n",
       "  <thead>\n",
       "    <tr style=\"text-align: right;\">\n",
       "      <th></th>\n",
       "      <th>sepallength</th>\n",
       "      <th>sepalwidth</th>\n",
       "      <th>petallength</th>\n",
       "      <th>petalwidth</th>\n",
       "      <th>class</th>\n",
       "    </tr>\n",
       "  </thead>\n",
       "  <tbody>\n",
       "    <tr>\n",
       "      <th>0</th>\n",
       "      <td>5.1</td>\n",
       "      <td>3.5</td>\n",
       "      <td>1.4</td>\n",
       "      <td>0.2</td>\n",
       "      <td>Iris-setosa</td>\n",
       "    </tr>\n",
       "    <tr>\n",
       "      <th>1</th>\n",
       "      <td>4.9</td>\n",
       "      <td>3.0</td>\n",
       "      <td>1.4</td>\n",
       "      <td>0.2</td>\n",
       "      <td>Iris-setosa</td>\n",
       "    </tr>\n",
       "    <tr>\n",
       "      <th>2</th>\n",
       "      <td>4.7</td>\n",
       "      <td>3.2</td>\n",
       "      <td>1.3</td>\n",
       "      <td>0.2</td>\n",
       "      <td>Iris-setosa</td>\n",
       "    </tr>\n",
       "    <tr>\n",
       "      <th>3</th>\n",
       "      <td>4.6</td>\n",
       "      <td>3.1</td>\n",
       "      <td>1.5</td>\n",
       "      <td>0.2</td>\n",
       "      <td>Iris-setosa</td>\n",
       "    </tr>\n",
       "    <tr>\n",
       "      <th>4</th>\n",
       "      <td>5.0</td>\n",
       "      <td>3.6</td>\n",
       "      <td>1.4</td>\n",
       "      <td>0.2</td>\n",
       "      <td>Iris-setosa</td>\n",
       "    </tr>\n",
       "  </tbody>\n",
       "</table>\n",
       "</div>"
      ],
      "text/plain": [
       "   sepallength  sepalwidth  petallength  petalwidth        class\n",
       "0          5.1         3.5          1.4         0.2  Iris-setosa\n",
       "1          4.9         3.0          1.4         0.2  Iris-setosa\n",
       "2          4.7         3.2          1.3         0.2  Iris-setosa\n",
       "3          4.6         3.1          1.5         0.2  Iris-setosa\n",
       "4          5.0         3.6          1.4         0.2  Iris-setosa"
      ]
     },
     "metadata": {},
     "output_type": "display_data"
    }
   ],
   "source": [
    "helpers.quick_eda(df)"
   ]
  },
  {
   "cell_type": "code",
   "execution_count": null,
   "metadata": {},
   "outputs": [],
   "source": []
  },
  {
   "cell_type": "markdown",
   "metadata": {},
   "source": [
    "### Data preprocessing steps\n",
    "- Creating - any features to engineer? \n",
    "- Correcting - any anomalies to correct? \n",
    "- Converting - any dtypes to correct? \n",
    "- Completing - any missing values to complete? "
   ]
  },
  {
   "cell_type": "markdown",
   "metadata": {},
   "source": [
    "### Completing"
   ]
  },
  {
   "cell_type": "markdown",
   "metadata": {},
   "source": [
    "Get the numeric and categorical columns for preprocessing"
   ]
  },
  {
   "cell_type": "code",
   "execution_count": 71,
   "metadata": {},
   "outputs": [
    {
     "name": "stdout",
     "output_type": "stream",
     "text": [
      "<class 'pandas.core.frame.DataFrame'>\n",
      "RangeIndex: 150 entries, 0 to 149\n",
      "Data columns (total 4 columns):\n",
      " #   Column       Non-Null Count  Dtype  \n",
      "---  ------       --------------  -----  \n",
      " 0   sepallength  150 non-null    float64\n",
      " 1   sepalwidth   150 non-null    float64\n",
      " 2   petallength  150 non-null    float64\n",
      " 3   petalwidth   150 non-null    float64\n",
      "dtypes: float64(4)\n",
      "memory usage: 4.8 KB\n"
     ]
    }
   ],
   "source": [
    "df_numeric = df[helpers.get_numeric_columns(df)]\n",
    "df_numeric.info()"
   ]
  },
  {
   "cell_type": "code",
   "execution_count": 72,
   "metadata": {},
   "outputs": [
    {
     "name": "stdout",
     "output_type": "stream",
     "text": [
      "<class 'pandas.core.frame.DataFrame'>\n",
      "RangeIndex: 150 entries, 0 to 149\n",
      "Data columns (total 1 columns):\n",
      " #   Column  Non-Null Count  Dtype   \n",
      "---  ------  --------------  -----   \n",
      " 0   class   150 non-null    category\n",
      "dtypes: category(1)\n",
      "memory usage: 410.0 bytes\n"
     ]
    }
   ],
   "source": [
    "df_categorical = df[helpers.get_categorical_columns(df)]\n",
    "df_categorical.info()"
   ]
  },
  {
   "cell_type": "code",
   "execution_count": null,
   "metadata": {},
   "outputs": [],
   "source": [
    "helpers.get_dtypes(df)"
   ]
  },
  {
   "cell_type": "code",
   "execution_count": null,
   "metadata": {},
   "outputs": [],
   "source": []
  },
  {
   "cell_type": "code",
   "execution_count": 15,
   "metadata": {},
   "outputs": [],
   "source": [
    "# try to use type hinting where possible so as to prevent unintended behaviour\n",
    "# Example function \n",
    "def double(n: str) -> str: \n",
    "    '''\n",
    "    docstrings here\n",
    "    '''\n",
    "    return n*2 "
   ]
  },
  {
   "cell_type": "code",
   "execution_count": 44,
   "metadata": {},
   "outputs": [],
   "source": [
    "## helper functions to add on\n",
    "\n",
    "def drop_duplicate_cols(df: pd.DataFrame, cols: Hashable) -> pd.DataFrame: \n",
    "    pass  \n",
    "\n",
    "\n",
    "def check_columns(): pass\n"
   ]
  }
 ],
 "metadata": {
  "interpreter": {
   "hash": "3a52cce4890713c3eae00fc9714213248a4bca02031d6e9b67ce5f0ff7e33b72"
  },
  "kernelspec": {
   "display_name": "Python 3 (ipykernel)",
   "language": "python",
   "name": "python3"
  },
  "language_info": {
   "codemirror_mode": {
    "name": "ipython",
    "version": 3
   },
   "file_extension": ".py",
   "mimetype": "text/x-python",
   "name": "python",
   "nbconvert_exporter": "python",
   "pygments_lexer": "ipython3",
   "version": "3.9.7"
  }
 },
 "nbformat": 4,
 "nbformat_minor": 4
}
