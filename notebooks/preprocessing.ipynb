{
 "cells": [
  {
   "cell_type": "code",
   "execution_count": 1,
   "metadata": {},
   "outputs": [],
   "source": [
    "# base \n",
    "import os \n",
    "import sys\n",
    "from src import helpers, config, plotting, evaluation\n",
    "import random \n",
    "import json \n",
    "import numpy as np\n",
    "import pandas as pd \n",
    "import pandas.api.types as types\n",
    "import matplotlib.pyplot as plt\n",
    "import matplotlib as mpl\n",
    "import seaborn as sns\n",
    "import missingno as msno\n",
    "import pickle\n",
    "import logging\n",
    "from pathlib import Path\n",
    "from urllib.request import urlretrieve \n",
    "from typing import List, Set, Dict, Tuple\n",
    "from typing import Union, Any, Optional, Iterable, Hashable, Type\n",
    "\n",
    "# base\n",
    "from sklearn.base import TransformerMixin\n",
    "\n",
    "# ml preprocessing \n",
    "from sklearn.preprocessing import OneHotEncoder, LabelEncoder, StandardScaler, MinMaxScaler\n",
    "\n",
    "# models\n",
    "import xgboost as xgb\n",
    "from sklearn.ensemble import AdaBoostClassifier, VotingClassifier\n",
    "from sklearn.linear_model import LogisticRegression\n",
    "\n",
    "# validation \n",
    "from sklearn.model_selection import GridSearchCV, RandomizedSearchCV, train_test_split, cross_validate, KFold, StratifiedKFold\n",
    "from sklearn.metrics import accuracy_score, classification_report, confusion_matrix, f1_score, roc_curve, roc_auc_score, precision_score, recall_score, plot_confusion_matrix\n",
    "\n",
    "# pipelines \n",
    "from sklearn.pipeline import Pipeline, FeatureUnion\n",
    "from sklearn.compose import ColumnTransformer\n",
    "from sklearn.metrics import make_scorer\n",
    "\n",
    "# ignore warnings \n",
    "import warnings \n",
    "warnings.filterwarnings('ignore')\n",
    "\n",
    "from sklearn import set_config\n",
    "set_config(display='diagram')\n",
    "\n",
    "\n",
    "# yet to arrange\n",
    "from sklearn.svm import SVC\n",
    "from sklearn.impute import SimpleImputer \n",
    "from sklearn.pipeline import Pipeline\n",
    "from sklearn.multiclass import OneVsRestClassifier\n",
    "from sklearn.feature_extraction import DictVectorizer\n",
    "from sklearn.feature_extraction.text import CountVectorizer"
   ]
  },
  {
   "cell_type": "code",
   "execution_count": 2,
   "metadata": {},
   "outputs": [],
   "source": [
    "# test\n",
    "assert config.TRAIN_FILE_PATH == Path.cwd().parent / \"data\" / \"final\"\n",
    "assert config.REPORTS_PATH == Path.cwd().parent / \"reports\" / \"figures\"\n",
    "assert config.RAW_FILE_PATH == Path.cwd().parent / \"data\" / \"raw\""
   ]
  },
  {
   "cell_type": "code",
   "execution_count": 20,
   "metadata": {},
   "outputs": [],
   "source": [
    "%matplotlib inline \n",
    "sns.set_style('white')\n",
    "sns.set_palette('deep')\n",
    "mpl.rcParams['figure.figsize'] = config.DEFAULT_FIGSIZE\n",
    "mpl.rcParams['lines.linewidth'] = config.DEFAULT_PLOT_LINEWIDTH\n",
    "mpl.rcParams['lines.linestyle'] = config.DEFAULT_PLOT_LINESTYLE\n",
    "mpl.rcParams['font.size'] = config.DEFAULT_AXIS_FONT_SIZE\n",
    "\n",
    "# logging settings \n",
    "# logging.basicConfig(level=logging.DEBUG, format='%(levelname)s:%(message)s')\n",
    "logger = logging.getLogger()\n",
    "logger.disabled = False\n",
    "\n",
    "pd.set_option('display.max_columns', 30)\n",
    "TARGET = 'status'"
   ]
  },
  {
   "cell_type": "code",
   "execution_count": 21,
   "metadata": {},
   "outputs": [
    {
     "name": "stdout",
     "output_type": "stream",
     "text": [
      "READING FROM THE LOCAL COPY\n"
     ]
    },
    {
     "data": {
      "text/html": [
       "<div>\n",
       "<style scoped>\n",
       "    .dataframe tbody tr th:only-of-type {\n",
       "        vertical-align: middle;\n",
       "    }\n",
       "\n",
       "    .dataframe tbody tr th {\n",
       "        vertical-align: top;\n",
       "    }\n",
       "\n",
       "    .dataframe thead th {\n",
       "        text-align: right;\n",
       "    }\n",
       "</style>\n",
       "<table border=\"1\" class=\"dataframe\">\n",
       "  <thead>\n",
       "    <tr style=\"text-align: right;\">\n",
       "      <th></th>\n",
       "      <th>Unnamed: 0</th>\n",
       "      <th>ID</th>\n",
       "      <th>year</th>\n",
       "      <th>loan_limit</th>\n",
       "      <th>Gender</th>\n",
       "      <th>approv_in_adv</th>\n",
       "      <th>loan_type</th>\n",
       "      <th>loan_purpose</th>\n",
       "      <th>Credit_Worthiness</th>\n",
       "      <th>open_credit</th>\n",
       "      <th>business_or_commercial</th>\n",
       "      <th>loan_amount</th>\n",
       "      <th>rate_of_interest</th>\n",
       "      <th>Interest_rate_spread</th>\n",
       "      <th>Upfront_charges</th>\n",
       "      <th>...</th>\n",
       "      <th>construction_type</th>\n",
       "      <th>occupancy_type</th>\n",
       "      <th>Secured_by</th>\n",
       "      <th>total_units</th>\n",
       "      <th>income</th>\n",
       "      <th>credit_type</th>\n",
       "      <th>Credit_Score</th>\n",
       "      <th>co-applicant_credit_type</th>\n",
       "      <th>age</th>\n",
       "      <th>submission_of_application</th>\n",
       "      <th>LTV</th>\n",
       "      <th>Region</th>\n",
       "      <th>Security_Type</th>\n",
       "      <th>Status</th>\n",
       "      <th>dtir1</th>\n",
       "    </tr>\n",
       "  </thead>\n",
       "  <tbody>\n",
       "    <tr>\n",
       "      <th>0</th>\n",
       "      <td>0</td>\n",
       "      <td>24890</td>\n",
       "      <td>2019</td>\n",
       "      <td>cf</td>\n",
       "      <td>Sex Not Available</td>\n",
       "      <td>nopre</td>\n",
       "      <td>type1</td>\n",
       "      <td>p1</td>\n",
       "      <td>l1</td>\n",
       "      <td>nopc</td>\n",
       "      <td>nob/c</td>\n",
       "      <td>116500</td>\n",
       "      <td>NaN</td>\n",
       "      <td>NaN</td>\n",
       "      <td>NaN</td>\n",
       "      <td>...</td>\n",
       "      <td>sb</td>\n",
       "      <td>pr</td>\n",
       "      <td>home</td>\n",
       "      <td>1U</td>\n",
       "      <td>1740.0</td>\n",
       "      <td>EXP</td>\n",
       "      <td>758</td>\n",
       "      <td>CIB</td>\n",
       "      <td>25-34</td>\n",
       "      <td>to_inst</td>\n",
       "      <td>98.728814</td>\n",
       "      <td>south</td>\n",
       "      <td>direct</td>\n",
       "      <td>1</td>\n",
       "      <td>45.0</td>\n",
       "    </tr>\n",
       "    <tr>\n",
       "      <th>1</th>\n",
       "      <td>1</td>\n",
       "      <td>24891</td>\n",
       "      <td>2019</td>\n",
       "      <td>cf</td>\n",
       "      <td>Male</td>\n",
       "      <td>nopre</td>\n",
       "      <td>type2</td>\n",
       "      <td>p1</td>\n",
       "      <td>l1</td>\n",
       "      <td>nopc</td>\n",
       "      <td>b/c</td>\n",
       "      <td>206500</td>\n",
       "      <td>NaN</td>\n",
       "      <td>NaN</td>\n",
       "      <td>NaN</td>\n",
       "      <td>...</td>\n",
       "      <td>sb</td>\n",
       "      <td>pr</td>\n",
       "      <td>home</td>\n",
       "      <td>1U</td>\n",
       "      <td>4980.0</td>\n",
       "      <td>EQUI</td>\n",
       "      <td>552</td>\n",
       "      <td>EXP</td>\n",
       "      <td>55-64</td>\n",
       "      <td>to_inst</td>\n",
       "      <td>NaN</td>\n",
       "      <td>North</td>\n",
       "      <td>direct</td>\n",
       "      <td>1</td>\n",
       "      <td>NaN</td>\n",
       "    </tr>\n",
       "    <tr>\n",
       "      <th>2</th>\n",
       "      <td>2</td>\n",
       "      <td>24892</td>\n",
       "      <td>2019</td>\n",
       "      <td>cf</td>\n",
       "      <td>Male</td>\n",
       "      <td>pre</td>\n",
       "      <td>type1</td>\n",
       "      <td>p1</td>\n",
       "      <td>l1</td>\n",
       "      <td>nopc</td>\n",
       "      <td>nob/c</td>\n",
       "      <td>406500</td>\n",
       "      <td>4.56</td>\n",
       "      <td>0.2000</td>\n",
       "      <td>595.0</td>\n",
       "      <td>...</td>\n",
       "      <td>sb</td>\n",
       "      <td>pr</td>\n",
       "      <td>home</td>\n",
       "      <td>1U</td>\n",
       "      <td>9480.0</td>\n",
       "      <td>EXP</td>\n",
       "      <td>834</td>\n",
       "      <td>CIB</td>\n",
       "      <td>35-44</td>\n",
       "      <td>to_inst</td>\n",
       "      <td>80.019685</td>\n",
       "      <td>south</td>\n",
       "      <td>direct</td>\n",
       "      <td>0</td>\n",
       "      <td>46.0</td>\n",
       "    </tr>\n",
       "    <tr>\n",
       "      <th>3</th>\n",
       "      <td>3</td>\n",
       "      <td>24893</td>\n",
       "      <td>2019</td>\n",
       "      <td>cf</td>\n",
       "      <td>Male</td>\n",
       "      <td>nopre</td>\n",
       "      <td>type1</td>\n",
       "      <td>p4</td>\n",
       "      <td>l1</td>\n",
       "      <td>nopc</td>\n",
       "      <td>nob/c</td>\n",
       "      <td>456500</td>\n",
       "      <td>4.25</td>\n",
       "      <td>0.6810</td>\n",
       "      <td>NaN</td>\n",
       "      <td>...</td>\n",
       "      <td>sb</td>\n",
       "      <td>pr</td>\n",
       "      <td>home</td>\n",
       "      <td>1U</td>\n",
       "      <td>11880.0</td>\n",
       "      <td>EXP</td>\n",
       "      <td>587</td>\n",
       "      <td>CIB</td>\n",
       "      <td>45-54</td>\n",
       "      <td>not_inst</td>\n",
       "      <td>69.376900</td>\n",
       "      <td>North</td>\n",
       "      <td>direct</td>\n",
       "      <td>0</td>\n",
       "      <td>42.0</td>\n",
       "    </tr>\n",
       "    <tr>\n",
       "      <th>4</th>\n",
       "      <td>4</td>\n",
       "      <td>24894</td>\n",
       "      <td>2019</td>\n",
       "      <td>cf</td>\n",
       "      <td>Joint</td>\n",
       "      <td>pre</td>\n",
       "      <td>type1</td>\n",
       "      <td>p1</td>\n",
       "      <td>l1</td>\n",
       "      <td>nopc</td>\n",
       "      <td>nob/c</td>\n",
       "      <td>696500</td>\n",
       "      <td>4.00</td>\n",
       "      <td>0.3042</td>\n",
       "      <td>0.0</td>\n",
       "      <td>...</td>\n",
       "      <td>sb</td>\n",
       "      <td>pr</td>\n",
       "      <td>home</td>\n",
       "      <td>1U</td>\n",
       "      <td>10440.0</td>\n",
       "      <td>CRIF</td>\n",
       "      <td>602</td>\n",
       "      <td>EXP</td>\n",
       "      <td>25-34</td>\n",
       "      <td>not_inst</td>\n",
       "      <td>91.886544</td>\n",
       "      <td>North</td>\n",
       "      <td>direct</td>\n",
       "      <td>0</td>\n",
       "      <td>39.0</td>\n",
       "    </tr>\n",
       "  </tbody>\n",
       "</table>\n",
       "<p>5 rows × 35 columns</p>\n",
       "</div>"
      ],
      "text/plain": [
       "   Unnamed: 0     ID  year loan_limit             Gender approv_in_adv  \\\n",
       "0           0  24890  2019         cf  Sex Not Available         nopre   \n",
       "1           1  24891  2019         cf               Male         nopre   \n",
       "2           2  24892  2019         cf               Male           pre   \n",
       "3           3  24893  2019         cf               Male         nopre   \n",
       "4           4  24894  2019         cf              Joint           pre   \n",
       "\n",
       "  loan_type loan_purpose Credit_Worthiness open_credit business_or_commercial  \\\n",
       "0     type1           p1                l1        nopc                  nob/c   \n",
       "1     type2           p1                l1        nopc                    b/c   \n",
       "2     type1           p1                l1        nopc                  nob/c   \n",
       "3     type1           p4                l1        nopc                  nob/c   \n",
       "4     type1           p1                l1        nopc                  nob/c   \n",
       "\n",
       "   loan_amount  rate_of_interest  Interest_rate_spread  Upfront_charges  ...  \\\n",
       "0       116500               NaN                   NaN              NaN  ...   \n",
       "1       206500               NaN                   NaN              NaN  ...   \n",
       "2       406500              4.56                0.2000            595.0  ...   \n",
       "3       456500              4.25                0.6810              NaN  ...   \n",
       "4       696500              4.00                0.3042              0.0  ...   \n",
       "\n",
       "   construction_type occupancy_type Secured_by total_units   income  \\\n",
       "0                 sb             pr       home          1U   1740.0   \n",
       "1                 sb             pr       home          1U   4980.0   \n",
       "2                 sb             pr       home          1U   9480.0   \n",
       "3                 sb             pr       home          1U  11880.0   \n",
       "4                 sb             pr       home          1U  10440.0   \n",
       "\n",
       "  credit_type Credit_Score co-applicant_credit_type    age  \\\n",
       "0         EXP          758                      CIB  25-34   \n",
       "1        EQUI          552                      EXP  55-64   \n",
       "2         EXP          834                      CIB  35-44   \n",
       "3         EXP          587                      CIB  45-54   \n",
       "4        CRIF          602                      EXP  25-34   \n",
       "\n",
       "   submission_of_application        LTV  Region Security_Type Status dtir1  \n",
       "0                    to_inst  98.728814   south        direct      1  45.0  \n",
       "1                    to_inst        NaN   North        direct      1   NaN  \n",
       "2                    to_inst  80.019685   south        direct      0  46.0  \n",
       "3                   not_inst  69.376900   North        direct      0  42.0  \n",
       "4                   not_inst  91.886544   North        direct      0  39.0  \n",
       "\n",
       "[5 rows x 35 columns]"
      ]
     },
     "execution_count": 21,
     "metadata": {},
     "output_type": "execute_result"
    }
   ],
   "source": [
    "# download and place data in the raw folder\n",
    "raw_filename = 'Loan_Default.csv'\n",
    "if os.path.exists(config.RAW_FILE_PATH / raw_filename): \n",
    "    print(f'READING FROM THE LOCAL COPY')\n",
    "    df = pd.read_csv(config.RAW_FILE_PATH / raw_filename)\n",
    "else: \n",
    "    print(f'FILE DOES NOT EXIST: {raw_filename}')\n",
    "    print('DOWNLOADING DATA >>>')\n",
    "    df = pd.read_csv('gs://aml_1/Loan_Default.csv')\n",
    "    df.to_csv(config.RAW_FILE_PATH / raw_filename)\n",
    "df.head()"
   ]
  },
  {
   "cell_type": "code",
   "execution_count": 24,
   "metadata": {},
   "outputs": [],
   "source": [
    "df.columns = helpers.standardize_cols(df.columns)"
   ]
  },
  {
   "cell_type": "code",
   "execution_count": 25,
   "metadata": {},
   "outputs": [
    {
     "name": "stdout",
     "output_type": "stream",
     "text": [
      "<class 'pandas.core.frame.DataFrame'>\n",
      "RangeIndex: 148670 entries, 0 to 148669\n",
      "Data columns (total 35 columns):\n",
      " #   Column                     Non-Null Count   Dtype  \n",
      "---  ------                     --------------   -----  \n",
      " 0   unnamed:_0                 148670 non-null  int64  \n",
      " 1   id                         148670 non-null  int64  \n",
      " 2   year                       148670 non-null  int64  \n",
      " 3   loan_limit                 145326 non-null  object \n",
      " 4   gender                     148670 non-null  object \n",
      " 5   approv_in_adv              147762 non-null  object \n",
      " 6   loan_type                  148670 non-null  object \n",
      " 7   loan_purpose               148536 non-null  object \n",
      " 8   credit_worthiness          148670 non-null  object \n",
      " 9   open_credit                148670 non-null  object \n",
      " 10  business_or_commercial     148670 non-null  object \n",
      " 11  loan_amount                148670 non-null  int64  \n",
      " 12  rate_of_interest           112231 non-null  float64\n",
      " 13  interest_rate_spread       112031 non-null  float64\n",
      " 14  upfront_charges            109028 non-null  float64\n",
      " 15  term                       148629 non-null  float64\n",
      " 16  neg_ammortization          148549 non-null  object \n",
      " 17  interest_only              148670 non-null  object \n",
      " 18  lump_sum_payment           148670 non-null  object \n",
      " 19  property_value             133572 non-null  float64\n",
      " 20  construction_type          148670 non-null  object \n",
      " 21  occupancy_type             148670 non-null  object \n",
      " 22  secured_by                 148670 non-null  object \n",
      " 23  total_units                148670 non-null  object \n",
      " 24  income                     139520 non-null  float64\n",
      " 25  credit_type                148670 non-null  object \n",
      " 26  credit_score               148670 non-null  int64  \n",
      " 27  co_applicant_credit_type   148670 non-null  object \n",
      " 28  age                        148470 non-null  object \n",
      " 29  submission_of_application  148470 non-null  object \n",
      " 30  ltv                        133572 non-null  float64\n",
      " 31  region                     148670 non-null  object \n",
      " 32  security_type              148670 non-null  object \n",
      " 33  status                     148670 non-null  int64  \n",
      " 34  dtir1                      124549 non-null  float64\n",
      "dtypes: float64(8), int64(6), object(21)\n",
      "memory usage: 39.7+ MB\n"
     ]
    }
   ],
   "source": [
    "df.info()"
   ]
  },
  {
   "cell_type": "markdown",
   "metadata": {},
   "source": [
    "### Hypotheses \n",
    " \n",
    "1. To drop \n",
    "    - unnamed:_0\n",
    "    - id -> UID\n",
    "    - year -> No variation \n",
    "\n",
    "2. Deterministic \n",
    "    - construction_type -> to drop \n",
    "    - secured_by -> drop \n",
    "    - security_type -> drop\n",
    "    - open_credit -> consider dropping (imbalanced)\n",
    "\n",
    "    - interest_rate_spread -> Not able to discriminate\n",
    "    - rate_of_interest\n",
    "    - upfront_charges\n",
    "\n",
    "3. Applicant characteristics\n",
    "    - gender -> Joint less likely to default -> Change to categorical\n",
    "        - Engineer whether loan was joint or not??\n",
    "        - Sex not provided?\n",
    "    - age\n",
    "    - dtir1 - debt to income ratio - missing 24121 values -> bin values?\n",
    "    - region\n",
    "    - income\n",
    "    - credit_worthiness\n",
    "    - credit_score\n",
    "    - credit_type\n",
    "    - co_applicant_credit_type\n",
    "    - submission_of_application\n",
    "\n",
    "4. Loan details \n",
    "    - loan_type -> what is a type 2 loan? \n",
    "    - loan_limit -> missing values -> ncf tends to default more \n",
    "    - loan amount -> \n",
    "    - loan_purpose -> missing 134\n",
    "    - lump_sum_payment -> remap \n",
    "    - approv_in_adv -> NA 908\n",
    "    - term -> most likely not going to be discriminating\n",
    "    - interest_only \n",
    "    - neg_ammortization -> seems important\n",
    "\n",
    "5. Property\n",
    "    - total_units (number of units bought?)\n",
    "    - business_or_commercial -> higher chance of default if biz/comm\n",
    "    - property_value\n",
    "    - occupancy_type\n",
    "    - ltv"
   ]
  },
  {
   "cell_type": "code",
   "execution_count": 55,
   "metadata": {},
   "outputs": [
    {
     "data": {
      "text/plain": [
       "<AxesSubplot:xlabel='ltv', ylabel='Density'>"
      ]
     },
     "execution_count": 55,
     "metadata": {},
     "output_type": "execute_result"
    },
    {
     "data": {
      "image/png": "[encoded data removed]",
      "text/plain": [
       "<Figure size 1152x720 with 1 Axes>"
      ]
     },
     "metadata": {},
     "output_type": "display_data"
    }
   ],
   "source": [
    "sns.kdeplot(df['ltv'])"
   ]
  },
  {
   "cell_type": "code",
   "execution_count": 57,
   "metadata": {},
   "outputs": [
    {
     "data": {
      "text/plain": [
       "count    133572.000000\n",
       "mean         72.746457\n",
       "std          39.967603\n",
       "min           0.967478\n",
       "25%          60.474860\n",
       "50%          75.135870\n",
       "75%          86.184211\n",
       "max        7831.250000\n",
       "Name: ltv, dtype: float64"
      ]
     },
     "execution_count": 57,
     "metadata": {},
     "output_type": "execute_result"
    }
   ],
   "source": [
    "df['ltv'].describe()"
   ]
  },
  {
   "cell_type": "code",
   "execution_count": 28,
   "metadata": {},
   "outputs": [
    {
     "data": {
      "text/plain": [
       "status  open_credit\n",
       "0       nopc           0.995912\n",
       "        opc            0.004088\n",
       "1       nopc           0.997325\n",
       "        opc            0.002675\n",
       "Name: open_credit, dtype: float64"
      ]
     },
     "execution_count": 28,
     "metadata": {},
     "output_type": "execute_result"
    }
   ],
   "source": [
    "df.groupby(TARGET)['open_credit'].value_counts(normalize=True)"
   ]
  },
  {
   "cell_type": "markdown",
   "metadata": {},
   "source": [
    "### Dropping "
   ]
  },
  {
   "cell_type": "code",
   "execution_count": 6,
   "metadata": {},
   "outputs": [],
   "source": [
    "df = df.drop(columns=['unnamed:_0', 'id', 'year', 'interest_rate_spread']) \n",
    "df = df.drop(columns=['secured_by', 'construction_type', 'security_type'])"
   ]
  },
  {
   "cell_type": "code",
   "execution_count": 10,
   "metadata": {},
   "outputs": [
    {
     "data": {
      "text/plain": [
       "status  business_or_commercial\n",
       "0       nob/c                     0.878694\n",
       "        b/c                       0.121306\n",
       "1       nob/c                     0.804252\n",
       "        b/c                       0.195748\n",
       "Name: business_or_commercial, dtype: float64"
      ]
     },
     "execution_count": 10,
     "metadata": {},
     "output_type": "execute_result"
    }
   ],
   "source": []
  },
  {
   "cell_type": "code",
   "execution_count": 52,
   "metadata": {},
   "outputs": [
    {
     "data": {
      "text/plain": [
       "status  total_units\n",
       "0       1U             0.987200\n",
       "        2U             0.008632\n",
       "        3U             0.002160\n",
       "        4U             0.002008\n",
       "1       1U             0.979366\n",
       "        2U             0.013920\n",
       "        3U             0.004121\n",
       "        4U             0.002593\n",
       "Name: total_units, dtype: float64"
      ]
     },
     "execution_count": 52,
     "metadata": {},
     "output_type": "execute_result"
    }
   ],
   "source": []
  },
  {
   "cell_type": "code",
   "execution_count": 32,
   "metadata": {},
   "outputs": [
    {
     "data": {
      "text/plain": [
       "status  secured_by\n",
       "0       home          112031\n",
       "1       home           36606\n",
       "        land              33\n",
       "Name: secured_by, dtype: int64"
      ]
     },
     "execution_count": 32,
     "metadata": {},
     "output_type": "execute_result"
    }
   ],
   "source": [
    "df.groupby(TARGET)['secured_by'].value_counts()"
   ]
  },
  {
   "cell_type": "code",
   "execution_count": 31,
   "metadata": {},
   "outputs": [
    {
     "data": {
      "text/plain": [
       "status\n",
       "0    AxesSubplot(0.125,0.125;0.775x0.755)\n",
       "1    AxesSubplot(0.125,0.125;0.775x0.755)\n",
       "Name: secured_by, dtype: object"
      ]
     },
     "execution_count": 31,
     "metadata": {},
     "output_type": "execute_result"
    },
    {
     "data": {
      "image/png": "[encoded data removed]",
      "text/plain": [
       "<Figure size 1152x720 with 1 Axes>"
      ]
     },
     "metadata": {},
     "output_type": "display_data"
    }
   ],
   "source": [
    "df.groupby(TARGET)['secured_by'].hist()"
   ]
  },
  {
   "cell_type": "code",
   "execution_count": null,
   "metadata": {},
   "outputs": [],
   "source": []
  },
  {
   "cell_type": "markdown",
   "metadata": {},
   "source": [
    "### Loan Limit\n",
    "- CF = conforming loan \n",
    "- NCF = non-conforming loan\n",
    "\n",
    "3344 missing values"
   ]
  },
  {
   "cell_type": "code",
   "execution_count": 18,
   "metadata": {},
   "outputs": [],
   "source": [
    "df['loan_limit'] = df['loan_limit'].astype('category')"
   ]
  },
  {
   "cell_type": "code",
   "execution_count": 19,
   "metadata": {},
   "outputs": [
    {
     "data": {
      "text/plain": [
       "3344"
      ]
     },
     "execution_count": 19,
     "metadata": {},
     "output_type": "execute_result"
    }
   ],
   "source": [
    "df['loan_limit'].isna().sum()"
   ]
  },
  {
   "cell_type": "markdown",
   "metadata": {},
   "source": [
    "### Applicant Characteristics\n",
    "    - gender -> Joint less likely to default -> Change to categorical\n",
    "        - Engineer whether loan was joint or not??\n",
    "        - Sex not provided?\n",
    "    - age\n",
    "    - dtir1 - debt to income ratio - missing 24121 values -> bin values?\n",
    "    - region\n",
    "    - income\n",
    "    - credit_worthiness\n",
    "    - credit_score\n",
    "    - credit_type\n",
    "    - co_applicant_credit_type\n",
    "    - submission_of_application"
   ]
  },
  {
   "cell_type": "code",
   "execution_count": 85,
   "metadata": {},
   "outputs": [
    {
     "data": {
      "text/plain": [
       "['25-34', '55-64', '35-44', '45-54', '65-74', '>74', '<25', NaN]\n",
       "Categories (7, object): ['<25' < '25-34' < '35-44' < '45-54' < '55-64' < '65-74' < '>74']"
      ]
     },
     "metadata": {},
     "output_type": "display_data"
    }
   ],
   "source": [
    "##  gender\n",
    "## ============================================\n",
    "df['gender'] = df['gender'].astype('category')\n",
    "\n",
    "\n",
    "## age \n",
    "## ============================================\n",
    "display(df['age'].unique())\n",
    "age_bins = ['<25', '25-34', '35-44', '45-54', '55-64', '65-74', '>74']\n",
    "age_cat = pd.CategoricalDtype(categories=age_bins, ordered=True)\n",
    "\n",
    "df['age'] = df['age'].astype(age_cat)\n",
    "\n",
    "\n",
    "## region \n",
    "## ============================================\n",
    "# standardize to lowercase\n",
    "df['region'] = df['region'].str.lower().astype('category')\n",
    "\n",
    "\n",
    "## credit_worthiness \n",
    "## ============================================\n",
    "df['credit_worthiness'] = df['credit_worthiness'].astype('category')\n",
    "\n",
    "\n",
    "## credit_score \n",
    "## ============================================\n",
    "# no changes so far\n",
    "df['credit_score'] = df['credit_score']\n",
    "\n",
    "\n",
    "## credit_type / co_applicant_credit_type\n",
    "## ============================================\n",
    "df['credit_type'].value_counts()\n",
    "df['credit_type'] = df['credit_type'].astype('category')\n",
    "\n",
    "df['co_applicant_credit_type'] = df['co_applicant_credit_type'].astype('category')\n",
    "df['co_applicant_credit_type'].isna().sum()\n",
    "\n",
    "\n",
    "## submission_of_application\n",
    "## ============================================\n",
    "df['submission_of_application'] = df['submission_of_application'].astype('category')"
   ]
  },
  {
   "cell_type": "code",
   "execution_count": 92,
   "metadata": {},
   "outputs": [
    {
     "data": {
      "text/plain": [
       "62237     578580.0\n",
       "33621     377220.0\n",
       "65351     374400.0\n",
       "46142     335880.0\n",
       "60996     335880.0\n",
       "8892      329460.0\n",
       "114559    322860.0\n",
       "117307    312000.0\n",
       "117248    240000.0\n",
       "31674     235980.0\n",
       "Name: income, dtype: float64"
      ]
     },
     "metadata": {},
     "output_type": "display_data"
    },
    {
     "data": {
      "text/plain": [
       "dtype('float64')"
      ]
     },
     "execution_count": 92,
     "metadata": {},
     "output_type": "execute_result"
    }
   ],
   "source": [
    "## income\n",
    "## ============================================\n",
    "df['income'].describe().T\n",
    "df[df['income'] == df['income'].max()]\n",
    "\n",
    "# large incomes\n",
    "display(df['income'].nlargest(10))\n",
    "\n",
    "# check if any negative incomes\n",
    "assert df['income'].min() >= 0\n",
    "\n",
    "## debt to income ratio \n",
    "## ============================================\n",
    "df['dtir1'].isna().sum()\n",
    "# 24121 missing\n",
    "\n",
    "df['dtir1'].dtype\n",
    "# df['dtir1'].hist()"
   ]
  },
  {
   "cell_type": "markdown",
   "metadata": {},
   "source": [
    "### Approved in advanced"
   ]
  },
  {
   "cell_type": "code",
   "execution_count": null,
   "metadata": {},
   "outputs": [],
   "source": []
  },
  {
   "cell_type": "code",
   "execution_count": null,
   "metadata": {},
   "outputs": [],
   "source": []
  },
  {
   "cell_type": "markdown",
   "metadata": {},
   "source": [
    "### Loan type\n",
    "- Approach - convert to categorical first"
   ]
  },
  {
   "cell_type": "code",
   "execution_count": 9,
   "metadata": {},
   "outputs": [],
   "source": [
    "df['loan_type'] = helpers.convert_to_dtype(df['loan_type'], 'categorical')"
   ]
  },
  {
   "cell_type": "markdown",
   "metadata": {},
   "source": [
    "### Loan purpose\n",
    "- Approach - convert to categorical first"
   ]
  },
  {
   "cell_type": "code",
   "execution_count": 10,
   "metadata": {},
   "outputs": [],
   "source": [
    "df['loan_purpose'] = helpers.convert_to_dtype(df['loan_purpose'], 'categorical')"
   ]
  },
  {
   "cell_type": "markdown",
   "metadata": {},
   "source": [
    "### Interest only\n",
    "- Approach: map to categorical\n",
    "\n",
    "What Is an Interest-Only Mortgage? An interest-only mortgage is a type of mortgage in which the mortgagor (the borrower) is required to pay only the interest on the loan for a certain period. The principal is repaid either in a lump sum at a specified date, or in subsequent payments.\n"
   ]
  },
  {
   "cell_type": "code",
   "execution_count": 11,
   "metadata": {},
   "outputs": [
    {
     "data": {
      "text/plain": [
       "status       \n",
       "0       False    0.953870\n",
       "        True     0.046130\n",
       "1       False    0.946996\n",
       "        True     0.053004\n",
       "Name: interest_only, dtype: float64"
      ]
     },
     "execution_count": 11,
     "metadata": {},
     "output_type": "execute_result"
    }
   ],
   "source": [
    "interest_only_mapping = {'not_int': False, 'int_only': True}  \n",
    "df['interest_only'] = df['interest_only'].map(interest_only_mapping).astype('category')\n",
    "\n",
    "df['interest_only'].value_counts()\n",
    "\n",
    "# check against target\n",
    "df.groupby(TARGET)['interest_only'].value_counts(normalize=True)"
   ]
  },
  {
   "cell_type": "markdown",
   "metadata": {},
   "source": [
    "### Construction type"
   ]
  },
  {
   "cell_type": "code",
   "execution_count": 12,
   "metadata": {},
   "outputs": [
    {
     "data": {
      "text/plain": [
       "0"
      ]
     },
     "execution_count": 12,
     "metadata": {},
     "output_type": "execute_result"
    }
   ],
   "source": [
    "# df.pivot_table(values=loan, index=TARGET)\n",
    "\n",
    "df['construction_type'].isna().sum()"
   ]
  },
  {
   "cell_type": "markdown",
   "metadata": {},
   "source": [
    "#### Lump sum payment\n",
    "- Approach: map to categorical"
   ]
  },
  {
   "cell_type": "code",
   "execution_count": null,
   "metadata": {},
   "outputs": [
    {
     "data": {
      "text/plain": [
       "status       \n",
       "0       False    0.993252\n",
       "        True     0.006748\n",
       "1       False    0.928273\n",
       "        True     0.071727\n",
       "Name: lump_sum_payment, dtype: float64"
      ]
     },
     "metadata": {},
     "output_type": "display_data"
    }
   ],
   "source": [
    "df['lump_sum_payment'].value_counts()\n",
    "\n",
    "lump_sum_mapping = {'not_lpsm': False, 'lpsm': True}  \n",
    "df['lump_sum_payment'] = df['lump_sum_payment'].map(lump_sum_mapping).astype('category')\n",
    "\n",
    "df.groupby('status')['lump_sum_payment'].value_counts(normalize=True)"
   ]
  },
  {
   "cell_type": "markdown",
   "metadata": {},
   "source": [
    "#### Co-applicant credit type\n",
    "- Approach: map to categorical"
   ]
  },
  {
   "cell_type": "code",
   "execution_count": 43,
   "metadata": {},
   "outputs": [
    {
     "name": "stdout",
     "output_type": "stream",
     "text": [
      "<class 'pandas.core.frame.DataFrame'>\n",
      "RangeIndex: 148670 entries, 0 to 148669\n",
      "Data columns (total 31 columns):\n",
      " #   Column                     Non-Null Count   Dtype   \n",
      "---  ------                     --------------   -----   \n",
      " 0   loan_limit                 145326 non-null  object  \n",
      " 1   gender                     148670 non-null  object  \n",
      " 2   approv_in_adv              147762 non-null  object  \n",
      " 3   loan_type                  148670 non-null  category\n",
      " 4   loan_purpose               148536 non-null  category\n",
      " 5   credit_worthiness          148670 non-null  object  \n",
      " 6   open_credit                148670 non-null  object  \n",
      " 7   business_or_commercial     148670 non-null  object  \n",
      " 8   loan_amount                148670 non-null  int64   \n",
      " 9   rate_of_interest           112231 non-null  float64 \n",
      " 10  upfront_charges            109028 non-null  float64 \n",
      " 11  term                       148629 non-null  float64 \n",
      " 12  neg_ammortization          148549 non-null  object  \n",
      " 13  interest_only              148670 non-null  category\n",
      " 14  lump_sum_payment           148670 non-null  category\n",
      " 15  property_value             133572 non-null  float64 \n",
      " 16  construction_type          148670 non-null  object  \n",
      " 17  occupancy_type             148670 non-null  object  \n",
      " 18  secured_by                 148670 non-null  object  \n",
      " 19  total_units                148670 non-null  object  \n",
      " 20  income                     139520 non-null  float64 \n",
      " 21  credit_type                148670 non-null  category\n",
      " 22  credit_score               148670 non-null  int64   \n",
      " 23  co_applicant_credit_type   148670 non-null  object  \n",
      " 24  age                        148470 non-null  object  \n",
      " 25  submission_of_application  148470 non-null  object  \n",
      " 26  ltv                        133572 non-null  float64 \n",
      " 27  region                     148670 non-null  object  \n",
      " 28  security_type              148670 non-null  object  \n",
      " 29  status                     148670 non-null  int64   \n",
      " 30  dtir1                      124549 non-null  float64 \n",
      "dtypes: category(5), float64(7), int64(3), object(16)\n",
      "memory usage: 30.2+ MB\n"
     ]
    }
   ],
   "source": [
    "df.info()"
   ]
  },
  {
   "cell_type": "code",
   "execution_count": 46,
   "metadata": {},
   "outputs": [],
   "source": []
  },
  {
   "cell_type": "markdown",
   "metadata": {},
   "source": [
    "### upfront_charges\n",
    "- Missing values for all status with loan defaults\n",
    "- ??? "
   ]
  },
  {
   "cell_type": "code",
   "execution_count": 15,
   "metadata": {},
   "outputs": [
    {
     "data": {
      "text/plain": [
       "status\n",
       "0    3227.328554\n",
       "1    1565.237974\n",
       "Name: upfront_charges, dtype: float64"
      ]
     },
     "execution_count": 15,
     "metadata": {},
     "output_type": "execute_result"
    }
   ],
   "source": [
    "df.groupby(TARGET)['upfront_charges'].mean()"
   ]
  },
  {
   "cell_type": "markdown",
   "metadata": {},
   "source": [
    "### Interest rate spread"
   ]
  },
  {
   "cell_type": "code",
   "execution_count": 16,
   "metadata": {},
   "outputs": [
    {
     "ename": "ValueError",
     "evalue": "Could not interpret value `interest_rate_spread` for parameter `x`",
     "output_type": "error",
     "traceback": [
      "\u001b[0;31m---------------------------------------------------------------------------\u001b[0m",
      "\u001b[0;31mValueError\u001b[0m                                Traceback (most recent call last)",
      "\u001b[0;32m/var/folders/rs/_9wv_fmn5y1d1cxb6xd4q711dh2rk4/T/ipykernel_25116/3879601642.py\u001b[0m in \u001b[0;36m<module>\u001b[0;34m\u001b[0m\n\u001b[0;32m----> 1\u001b[0;31m \u001b[0msns\u001b[0m\u001b[0;34m.\u001b[0m\u001b[0mhistplot\u001b[0m\u001b[0;34m(\u001b[0m\u001b[0mdata\u001b[0m\u001b[0;34m=\u001b[0m\u001b[0mdf\u001b[0m\u001b[0;34m,\u001b[0m \u001b[0mx\u001b[0m\u001b[0;34m=\u001b[0m\u001b[0;34m'interest_rate_spread'\u001b[0m\u001b[0;34m,\u001b[0m \u001b[0mhue\u001b[0m\u001b[0;34m=\u001b[0m\u001b[0mTARGET\u001b[0m\u001b[0;34m)\u001b[0m\u001b[0;34m\u001b[0m\u001b[0;34m\u001b[0m\u001b[0m\n\u001b[0m\u001b[1;32m      2\u001b[0m \u001b[0mplt\u001b[0m\u001b[0;34m.\u001b[0m\u001b[0mshow\u001b[0m\u001b[0;34m(\u001b[0m\u001b[0;34m)\u001b[0m\u001b[0;34m\u001b[0m\u001b[0;34m\u001b[0m\u001b[0m\n",
      "\u001b[0;32m~/opt/anaconda3/envs/aml/lib/python3.9/site-packages/seaborn/distributions.py\u001b[0m in \u001b[0;36mhistplot\u001b[0;34m(data, x, y, hue, weights, stat, bins, binwidth, binrange, discrete, cumulative, common_bins, common_norm, multiple, element, fill, shrink, kde, kde_kws, line_kws, thresh, pthresh, pmax, cbar, cbar_ax, cbar_kws, palette, hue_order, hue_norm, color, log_scale, legend, ax, **kwargs)\u001b[0m\n\u001b[1;32m   1428\u001b[0m ):\n\u001b[1;32m   1429\u001b[0m \u001b[0;34m\u001b[0m\u001b[0m\n\u001b[0;32m-> 1430\u001b[0;31m     p = _DistributionPlotter(\n\u001b[0m\u001b[1;32m   1431\u001b[0m         \u001b[0mdata\u001b[0m\u001b[0;34m=\u001b[0m\u001b[0mdata\u001b[0m\u001b[0;34m,\u001b[0m\u001b[0;34m\u001b[0m\u001b[0;34m\u001b[0m\u001b[0m\n\u001b[1;32m   1432\u001b[0m         \u001b[0mvariables\u001b[0m\u001b[0;34m=\u001b[0m\u001b[0m_DistributionPlotter\u001b[0m\u001b[0;34m.\u001b[0m\u001b[0mget_semantics\u001b[0m\u001b[0;34m(\u001b[0m\u001b[0mlocals\u001b[0m\u001b[0;34m(\u001b[0m\u001b[0;34m)\u001b[0m\u001b[0;34m)\u001b[0m\u001b[0;34m\u001b[0m\u001b[0;34m\u001b[0m\u001b[0m\n",
      "\u001b[0;32m~/opt/anaconda3/envs/aml/lib/python3.9/site-packages/seaborn/distributions.py\u001b[0m in \u001b[0;36m__init__\u001b[0;34m(self, data, variables)\u001b[0m\n\u001b[1;32m    109\u001b[0m     ):\n\u001b[1;32m    110\u001b[0m \u001b[0;34m\u001b[0m\u001b[0m\n\u001b[0;32m--> 111\u001b[0;31m         \u001b[0msuper\u001b[0m\u001b[0;34m(\u001b[0m\u001b[0;34m)\u001b[0m\u001b[0;34m.\u001b[0m\u001b[0m__init__\u001b[0m\u001b[0;34m(\u001b[0m\u001b[0mdata\u001b[0m\u001b[0;34m=\u001b[0m\u001b[0mdata\u001b[0m\u001b[0;34m,\u001b[0m \u001b[0mvariables\u001b[0m\u001b[0;34m=\u001b[0m\u001b[0mvariables\u001b[0m\u001b[0;34m)\u001b[0m\u001b[0;34m\u001b[0m\u001b[0;34m\u001b[0m\u001b[0m\n\u001b[0m\u001b[1;32m    112\u001b[0m \u001b[0;34m\u001b[0m\u001b[0m\n\u001b[1;32m    113\u001b[0m     \u001b[0;34m@\u001b[0m\u001b[0mproperty\u001b[0m\u001b[0;34m\u001b[0m\u001b[0;34m\u001b[0m\u001b[0m\n",
      "\u001b[0;32m~/opt/anaconda3/envs/aml/lib/python3.9/site-packages/seaborn/_core.py\u001b[0m in \u001b[0;36m__init__\u001b[0;34m(self, data, variables)\u001b[0m\n\u001b[1;32m    603\u001b[0m     \u001b[0;32mdef\u001b[0m \u001b[0m__init__\u001b[0m\u001b[0;34m(\u001b[0m\u001b[0mself\u001b[0m\u001b[0;34m,\u001b[0m \u001b[0mdata\u001b[0m\u001b[0;34m=\u001b[0m\u001b[0;32mNone\u001b[0m\u001b[0;34m,\u001b[0m \u001b[0mvariables\u001b[0m\u001b[0;34m=\u001b[0m\u001b[0;34m{\u001b[0m\u001b[0;34m}\u001b[0m\u001b[0;34m)\u001b[0m\u001b[0;34m:\u001b[0m\u001b[0;34m\u001b[0m\u001b[0;34m\u001b[0m\u001b[0m\n\u001b[1;32m    604\u001b[0m \u001b[0;34m\u001b[0m\u001b[0m\n\u001b[0;32m--> 605\u001b[0;31m         \u001b[0mself\u001b[0m\u001b[0;34m.\u001b[0m\u001b[0massign_variables\u001b[0m\u001b[0;34m(\u001b[0m\u001b[0mdata\u001b[0m\u001b[0;34m,\u001b[0m \u001b[0mvariables\u001b[0m\u001b[0;34m)\u001b[0m\u001b[0;34m\u001b[0m\u001b[0;34m\u001b[0m\u001b[0m\n\u001b[0m\u001b[1;32m    606\u001b[0m \u001b[0;34m\u001b[0m\u001b[0m\n\u001b[1;32m    607\u001b[0m         \u001b[0;32mfor\u001b[0m \u001b[0mvar\u001b[0m\u001b[0;34m,\u001b[0m \u001b[0mcls\u001b[0m \u001b[0;32min\u001b[0m \u001b[0mself\u001b[0m\u001b[0;34m.\u001b[0m\u001b[0m_semantic_mappings\u001b[0m\u001b[0;34m.\u001b[0m\u001b[0mitems\u001b[0m\u001b[0;34m(\u001b[0m\u001b[0;34m)\u001b[0m\u001b[0;34m:\u001b[0m\u001b[0;34m\u001b[0m\u001b[0;34m\u001b[0m\u001b[0m\n",
      "\u001b[0;32m~/opt/anaconda3/envs/aml/lib/python3.9/site-packages/seaborn/_core.py\u001b[0m in \u001b[0;36massign_variables\u001b[0;34m(self, data, variables)\u001b[0m\n\u001b[1;32m    666\u001b[0m         \u001b[0;32melse\u001b[0m\u001b[0;34m:\u001b[0m\u001b[0;34m\u001b[0m\u001b[0;34m\u001b[0m\u001b[0m\n\u001b[1;32m    667\u001b[0m             \u001b[0mself\u001b[0m\u001b[0;34m.\u001b[0m\u001b[0minput_format\u001b[0m \u001b[0;34m=\u001b[0m \u001b[0;34m\"long\"\u001b[0m\u001b[0;34m\u001b[0m\u001b[0;34m\u001b[0m\u001b[0m\n\u001b[0;32m--> 668\u001b[0;31m             plot_data, variables = self._assign_variables_longform(\n\u001b[0m\u001b[1;32m    669\u001b[0m                 \u001b[0mdata\u001b[0m\u001b[0;34m,\u001b[0m \u001b[0;34m**\u001b[0m\u001b[0mvariables\u001b[0m\u001b[0;34m,\u001b[0m\u001b[0;34m\u001b[0m\u001b[0;34m\u001b[0m\u001b[0m\n\u001b[1;32m    670\u001b[0m             )\n",
      "\u001b[0;32m~/opt/anaconda3/envs/aml/lib/python3.9/site-packages/seaborn/_core.py\u001b[0m in \u001b[0;36m_assign_variables_longform\u001b[0;34m(self, data, **kwargs)\u001b[0m\n\u001b[1;32m    901\u001b[0m \u001b[0;34m\u001b[0m\u001b[0m\n\u001b[1;32m    902\u001b[0m                 \u001b[0merr\u001b[0m \u001b[0;34m=\u001b[0m \u001b[0;34mf\"Could not interpret value `{val}` for parameter `{key}`\"\u001b[0m\u001b[0;34m\u001b[0m\u001b[0;34m\u001b[0m\u001b[0m\n\u001b[0;32m--> 903\u001b[0;31m                 \u001b[0;32mraise\u001b[0m \u001b[0mValueError\u001b[0m\u001b[0;34m(\u001b[0m\u001b[0merr\u001b[0m\u001b[0;34m)\u001b[0m\u001b[0;34m\u001b[0m\u001b[0;34m\u001b[0m\u001b[0m\n\u001b[0m\u001b[1;32m    904\u001b[0m \u001b[0;34m\u001b[0m\u001b[0m\n\u001b[1;32m    905\u001b[0m             \u001b[0;32melse\u001b[0m\u001b[0;34m:\u001b[0m\u001b[0;34m\u001b[0m\u001b[0;34m\u001b[0m\u001b[0m\n",
      "\u001b[0;31mValueError\u001b[0m: Could not interpret value `interest_rate_spread` for parameter `x`"
     ]
    }
   ],
   "source": [
    "sns.histplot(data=df, x='interest_rate_spread', hue=TARGET)\n",
    "plt.show()"
   ]
  },
  {
   "cell_type": "markdown",
   "metadata": {},
   "source": [
    "### Gender"
   ]
  },
  {
   "cell_type": "code",
   "execution_count": null,
   "metadata": {},
   "outputs": [],
   "source": [
    "df['gender'].nunique()\n",
    "df['gender'].value_counts()\n",
    "\n",
    "df['gender'] = helpers.convert_to_dtype(df['gender'], type='categorical')"
   ]
  },
  {
   "cell_type": "code",
   "execution_count": null,
   "metadata": {},
   "outputs": [],
   "source": [
    "df['joint_loan'] = df['gender'].apply(lambda x: x == 'Joint')"
   ]
  },
  {
   "cell_type": "code",
   "execution_count": null,
   "metadata": {},
   "outputs": [],
   "source": [
    "missing_loan_limits = df.loc[df['approv_in_adv'].isna()]\n",
    "non_missing_loan_limits = df.loc[~df['approv_in_adv'].isna()]"
   ]
  },
  {
   "cell_type": "code",
   "execution_count": null,
   "metadata": {},
   "outputs": [],
   "source": [
    "missing_loan_limits = missing_loan_limits.drop(columns='approv_in_adv')"
   ]
  },
  {
   "cell_type": "code",
   "execution_count": null,
   "metadata": {},
   "outputs": [],
   "source": [
    "sns.pairplot(missing_loan_limits)"
   ]
  },
  {
   "cell_type": "code",
   "execution_count": null,
   "metadata": {},
   "outputs": [],
   "source": [
    "display(missing_loan_limits.describe().T)\n",
    "display(non_missing_loan_limits.describe().T)"
   ]
  },
  {
   "cell_type": "code",
   "execution_count": null,
   "metadata": {},
   "outputs": [],
   "source": [
    "plotting.quick_plot(missing_loan_limits)"
   ]
  },
  {
   "cell_type": "code",
   "execution_count": null,
   "metadata": {},
   "outputs": [
    {
     "data": {
      "text/plain": [
       "status  secured_by\n",
       "0       home          1.000000\n",
       "1       home          0.999099\n",
       "        land          0.000901\n",
       "Name: secured_by, dtype: float64"
      ]
     },
     "execution_count": 221,
     "metadata": {},
     "output_type": "execute_result"
    }
   ],
   "source": [
    "df.groupby(TARGET)['secured_by'].value_counts(normalize=True)"
   ]
  },
  {
   "cell_type": "markdown",
   "metadata": {},
   "source": [
    "### Business or commercial"
   ]
  },
  {
   "cell_type": "code",
   "execution_count": 13,
   "metadata": {},
   "outputs": [],
   "source": [
    "df['business_or_commercial'] = df['business_or_commercial'].astype('category')"
   ]
  },
  {
   "cell_type": "code",
   "execution_count": null,
   "metadata": {},
   "outputs": [],
   "source": [
    "df.groupby(TARGET)['business_or_commercial'].value_counts(normalize=True)"
   ]
  },
  {
   "cell_type": "code",
   "execution_count": 61,
   "metadata": {},
   "outputs": [
    {
     "data": {
      "text/plain": [
       "dtype('float64')"
      ]
     },
     "execution_count": 61,
     "metadata": {},
     "output_type": "execute_result"
    }
   ],
   "source": []
  },
  {
   "cell_type": "markdown",
   "metadata": {},
   "source": [
    "### Loan purpose exploration"
   ]
  },
  {
   "cell_type": "code",
   "execution_count": null,
   "metadata": {},
   "outputs": [],
   "source": [
    "df['loan_purpose'].value_counts()\n",
    "\n",
    "cat_features = helpers.get_categorical_columns(df)\n",
    "\n",
    "for col in cat_features:\n",
    "    df_bar = df.groupby('loan_purpose')[col].value_counts().to_frame('counts').reset_index()\n",
    "    sns.catplot(data=df_bar, x='gender', y='counts', row='loan_purpose', kind='bar')\n",
    "    plt.show()"
   ]
  },
  {
   "cell_type": "markdown",
   "metadata": {},
   "source": []
  },
  {
   "cell_type": "markdown",
   "metadata": {},
   "source": [
    "### Neg ammortization "
   ]
  },
  {
   "cell_type": "markdown",
   "metadata": {},
   "source": [
    "### Credit score "
   ]
  },
  {
   "cell_type": "code",
   "execution_count": 21,
   "metadata": {},
   "outputs": [
    {
     "data": {
      "text/plain": [
       "<AxesSubplot:>"
      ]
     },
     "execution_count": 21,
     "metadata": {},
     "output_type": "execute_result"
    },
    {
     "data": {
      "image/png": "[encoded data removed]",
      "text/plain": [
       "<Figure size 1152x720 with 1 Axes>"
      ]
     },
     "metadata": {},
     "output_type": "display_data"
    }
   ],
   "source": [
    "df['credit_score'].hist()"
   ]
  },
  {
   "cell_type": "markdown",
   "metadata": {},
   "source": [
    "### Total units"
   ]
  },
  {
   "cell_type": "code",
   "execution_count": 57,
   "metadata": {},
   "outputs": [],
   "source": [
    "total_units_categories = pd.CategoricalDtype(categories=['1U', '2U', '3U', '4U'], ordered=True)"
   ]
  },
  {
   "cell_type": "code",
   "execution_count": 58,
   "metadata": {},
   "outputs": [],
   "source": [
    "df['total_units'] = df['total_units'].astype(total_units_categories)"
   ]
  },
  {
   "cell_type": "code",
   "execution_count": 60,
   "metadata": {},
   "outputs": [
    {
     "data": {
      "text/plain": [
       "CategoricalDtype(categories=['1U', '2U', '3U', '4U'], ordered=True)"
      ]
     },
     "execution_count": 60,
     "metadata": {},
     "output_type": "execute_result"
    }
   ],
   "source": [
    "# df.groupby(TARGET)['total_units'].value_counts(normalize=True)"
   ]
  },
  {
   "cell_type": "markdown",
   "metadata": {},
   "source": [
    "### Security Type"
   ]
  },
  {
   "cell_type": "code",
   "execution_count": 66,
   "metadata": {},
   "outputs": [
    {
     "data": {
      "text/plain": [
       "status  security_type\n",
       "0       direct           112031\n",
       "1       direct            36606\n",
       "        Indriect             33\n",
       "Name: security_type, dtype: int64"
      ]
     },
     "execution_count": 66,
     "metadata": {},
     "output_type": "execute_result"
    }
   ],
   "source": [
    "df.groupby(TARGET)['security_type'].value_counts()"
   ]
  },
  {
   "cell_type": "markdown",
   "metadata": {},
   "source": [
    "### Term"
   ]
  },
  {
   "cell_type": "code",
   "execution_count": 29,
   "metadata": {},
   "outputs": [
    {
     "data": {
      "text/plain": [
       "<AxesSubplot:>"
      ]
     },
     "execution_count": 29,
     "metadata": {},
     "output_type": "execute_result"
    },
    {
     "data": {
      "image/png": "[encoded data removed]",
      "text/plain": [
       "<Figure size 1152x720 with 1 Axes>"
      ]
     },
     "metadata": {},
     "output_type": "display_data"
    }
   ],
   "source": [
    "df['term'].hist()"
   ]
  },
  {
   "cell_type": "markdown",
   "metadata": {},
   "source": []
  }
 ],
 "metadata": {
  "interpreter": {
   "hash": "570095cd93adf9a4e6271b94630cfbadf31bbfe8ef42337a7894ca3063fc1c9a"
  },
  "kernelspec": {
   "display_name": "Python 3.9.7 ('aml')",
   "language": "python",
   "name": "python3"
  },
  "language_info": {
   "codemirror_mode": {
    "name": "ipython",
    "version": 3
   },
   "file_extension": ".py",
   "mimetype": "text/x-python",
   "name": "python",
   "nbconvert_exporter": "python",
   "pygments_lexer": "ipython3",
   "version": "3.9.7"
  },
  "orig_nbformat": 4
 },
 "nbformat": 4,
 "nbformat_minor": 2
}
