{
 "cells": [
  {
   "cell_type": "markdown",
   "metadata": {},
   "source": [
    "### What is the purpose of this file? \n",
    "\n",
    "Show distributions of continuous and categorical variables"
   ]
  },
  {
   "cell_type": "code",
   "execution_count": null,
   "metadata": {},
   "outputs": [],
   "source": [
    "# base \n",
    "from src import helpers, config, plotting, evaluation\n",
    "import numpy as np\n",
    "import pandas as pd \n",
    "import matplotlib.pyplot as plt\n",
    "import matplotlib as mpl\n",
    "import seaborn as sns\n",
    "import missingno as msno\n",
    "import logging\n",
    "from urllib.request import urlretrieve \n",
    "\n",
    "# base\n",
    "from sklearn.base import TransformerMixin\n",
    "from sklearn import set_config\n",
    "\n",
    "# ignore warnings \n",
    "import warnings \n",
    "warnings.filterwarnings('ignore')\n",
    "\n",
    "\n",
    "\n",
    "# yet to arrange\n",
    "from sklearn.svm import SVC\n",
    "from sklearn.impute import SimpleImputer \n",
    "from sklearn.pipeline import Pipeline\n",
    "from sklearn.multiclass import OneVsRestClassifier\n",
    "from sklearn.feature_extraction import DictVectorizer\n",
    "from sklearn.feature_extraction.text import CountVectorizer"
   ]
  },
  {
   "cell_type": "code",
   "execution_count": null,
   "metadata": {},
   "outputs": [],
   "source": [
    "%matplotlib inline \n",
    "\n",
    "set_config(display='diagram')\n",
    "sns.set_style('white')\n",
    "sns.set_palette('deep')\n",
    "mpl.rcParams['figure.figsize'] = config.DEFAULT_FIGSIZE\n",
    "mpl.rcParams['lines.linewidth'] = config.DEFAULT_PLOT_LINEWIDTH\n",
    "mpl.rcParams['lines.linestyle'] = config.DEFAULT_PLOT_LINESTYLE\n",
    "mpl.rcParams['font.size'] = config.DEFAULT_AXIS_FONT_SIZE\n",
    "\n",
    "# logging settings \n",
    "# logging.basicConfig(level=logging.DEBUG, format='%(levelname)s:%(message)s')\n",
    "logger = logging.getLogger()\n",
    "logger.disabled = False\n",
    "\n",
    "pd.set_option('display.max_columns', 30)\n",
    "TARGET = 'status'"
   ]
  },
  {
   "cell_type": "markdown",
   "metadata": {},
   "source": [
    "### What does the overall class distribution look like? "
   ]
  },
  {
   "cell_type": "markdown",
   "metadata": {},
   "source": [
    "### What does the overall correlations look like? "
   ]
  },
  {
   "cell_type": "markdown",
   "metadata": {},
   "source": [
    "### Example header "
   ]
  },
  {
   "cell_type": "markdown",
   "metadata": {},
   "source": [
    "### Example header "
   ]
  },
  {
   "cell_type": "markdown",
   "metadata": {},
   "source": [
    "### Example header "
   ]
  },
  {
   "cell_type": "markdown",
   "metadata": {},
   "source": [
    "### Example header "
   ]
  },
  {
   "cell_type": "code",
   "execution_count": null,
   "metadata": {},
   "outputs": [],
   "source": []
  },
  {
   "cell_type": "markdown",
   "metadata": {},
   "source": [
    "### Hypotheses \n",
    " \n",
    "1. To drop \n",
    "    - unnamed:_0\n",
    "    - id -> UID\n",
    "    - year -> No variation \n",
    "\n",
    "2. Deterministic \n",
    "    - construction_type -> to drop \n",
    "    - secured_by -> drop \n",
    "    - security_type -> drop\n",
    "    - open_credit -> consider dropping (imbalanced)\n",
    "\n",
    "    Unsure of these\n",
    "    - interest_rate_spread -> Not able to discriminate\n",
    "    - rate_of_interest -> Not able to discriminate\n",
    "    - upfront_charges -> Not able to discriminate\n",
    "\n",
    "3. Applicant characteristics\n",
    "    - gender -> Joint less likely to default -> Change to categorical\n",
    "        - Engineer whether loan was joint or not??\n",
    "        - Sex not provided?\n",
    "    - age\n",
    "    - dtir1 - debt to income ratio - missing 24121 values -> bin values?\n",
    "    - region\n",
    "    - income\n",
    "    - credit_worthiness\n",
    "    - credit_score\n",
    "    - credit_type\n",
    "    - co_applicant_credit_type\n",
    "    - submission_of_application\n",
    "\n",
    "4. Loan details \n",
    "    - loan_type -> what is a type 2 loan? \n",
    "    - loan_limit -> missing values -> ncf tends to default more \n",
    "    - loan amount -> \n",
    "    - loan_purpose -> missing 134\n",
    "    - lump_sum_payment -> remap \n",
    "    - approv_in_adv -> NA 908\n",
    "    - term -> most likely not going to be discriminating\n",
    "    - interest_only \n",
    "    - neg_ammortization -> seems important\n",
    "\n",
    "5. Property\n",
    "    - total_units (number of units bought?)\n",
    "    - business_or_commercial -> higher chance of default if biz/comm\n",
    "    - property_value\n",
    "    - occupancy_type\n",
    "    - ltv"
   ]
  },
  {
   "cell_type": "code",
   "execution_count": null,
   "metadata": {},
   "outputs": [],
   "source": [
    "sns.kdeplot(df['ltv'])"
   ]
  },
  {
   "cell_type": "code",
   "execution_count": null,
   "metadata": {},
   "outputs": [],
   "source": [
    "'''\n",
    "- interest_rate_spread -> Not able to discriminate\n",
    "- rate_of_interest -> Not able to discriminate\n",
    "- upfront_charges -> Not able to discriminate\n",
    "'''\n",
    "df.groupby(TARGET)['upfront_charges'].count()"
   ]
  },
  {
   "cell_type": "code",
   "execution_count": null,
   "metadata": {},
   "outputs": [],
   "source": [
    "df.groupby(TARGET)['open_credit'].value_counts(normalize=True)"
   ]
  },
  {
   "cell_type": "markdown",
   "metadata": {},
   "source": [
    "### Dropping columns that are not useful"
   ]
  },
  {
   "cell_type": "code",
   "execution_count": null,
   "metadata": {},
   "outputs": [],
   "source": [
    "# df.groupby(TARGET)['secured_by'].value_counts()\n",
    "df.groupby(TARGET)['secured_by'].hist()"
   ]
  },
  {
   "cell_type": "code",
   "execution_count": null,
   "metadata": {},
   "outputs": [],
   "source": [
    "df = df.drop(columns=['unnamed:_0', 'id', 'year', 'interest_rate_spread']) \n",
    "df = df.drop(columns=['secured_by', 'construction_type', 'security_type'])"
   ]
  },
  {
   "cell_type": "markdown",
   "metadata": {},
   "source": [
    "### Applicant Characteristics\n",
    "    - gender -> Joint less likely to default -> Change to categorical\n",
    "        - Engineer whether loan was joint or not??\n",
    "        - Sex not provided?\n",
    "    - age\n",
    "    - dtir1 - debt to income ratio - missing 24121 values -> bin values?\n",
    "    - region\n",
    "    - income\n",
    "    - credit_worthiness\n",
    "    - credit_score\n",
    "    - credit_type\n",
    "    - co_applicant_credit_type\n",
    "    - submission_of_application"
   ]
  },
  {
   "cell_type": "code",
   "execution_count": null,
   "metadata": {},
   "outputs": [],
   "source": [
    "##  gender\n",
    "## ============================================\n",
    "df['gender'] = helpers.convert_to_dtype(df['gender'], type='categorical')\n",
    "# df['gender'].nunique()\n",
    "# df['gender'].value_counts()\n",
    "# df['joint_loan'] = df['gender'].apply(lambda x: x == 'Joint')\n",
    "\n",
    "\n",
    "## age \n",
    "## ============================================\n",
    "display(df['age'].unique())\n",
    "age_bins = ['<25', '25-34', '35-44', '45-54', '55-64', '65-74', '>74']\n",
    "age_cat = pd.CategoricalDtype(categories=age_bins, ordered=True)\n",
    "\n",
    "df['age'] = df['age'].astype(age_cat)\n",
    "\n",
    "\n",
    "## region \n",
    "## ============================================\n",
    "# standardize to lowercase\n",
    "df['region'] = df['region'].str.lower().astype('category')\n",
    "\n",
    "\n",
    "## credit_worthiness \n",
    "## ============================================\n",
    "df['credit_worthiness'] = df['credit_worthiness'].astype('category')\n",
    "\n",
    "\n",
    "## credit_score \n",
    "## ============================================\n",
    "# no changes so far\n",
    "df['credit_score'] = df['credit_score']\n",
    "df['credit_score'].hist()\n",
    "\n",
    "## credit_type / co_applicant_credit_type\n",
    "## ============================================\n",
    "df['credit_type'].value_counts()\n",
    "df['credit_type'] = df['credit_type'].astype('category')\n",
    "\n",
    "df['co_applicant_credit_type'] = df['co_applicant_credit_type'].astype('category')\n",
    "df['co_applicant_credit_type'].isna().sum()\n",
    "\n",
    "\n",
    "## submission_of_application\n",
    "## ============================================\n",
    "df['submission_of_application'] = df['submission_of_application'].astype('category')"
   ]
  },
  {
   "cell_type": "code",
   "execution_count": null,
   "metadata": {},
   "outputs": [],
   "source": [
    "## income\n",
    "## ============================================\n",
    "df['income'].describe().T\n",
    "df[df['income'] == df['income'].max()]\n",
    "\n",
    "# large incomes\n",
    "display(df['income'].nlargest(10))\n",
    "\n",
    "# check if any negative incomes\n",
    "assert df['income'].min() >= 0\n",
    "\n",
    "## debt to income ratio \n",
    "## ============================================\n",
    "df['dtir1'].isna().sum()\n",
    "# 24121 missing\n",
    "\n",
    "df['dtir1'].dtype\n",
    "# df['dtir1'].hist()"
   ]
  },
  {
   "cell_type": "markdown",
   "metadata": {},
   "source": [
    "### Loan details\n",
    "    - loan_type -> what is a type 2 loan? \n",
    "    - loan_limit -> missing values -> ncf tends to default more \n",
    "    - loan amount -> \n",
    "    - loan_purpose -> missing 134\n",
    "    - lump_sum_payment -> remap \n",
    "    - approv_in_adv -> NA 908\n",
    "    - term -> most likely not going to be discriminating\n",
    "    - interest_only \n",
    "    - neg_ammortization -> seems important"
   ]
  },
  {
   "cell_type": "code",
   "execution_count": null,
   "metadata": {},
   "outputs": [],
   "source": [
    "def remove_outliers(): pass"
   ]
  },
  {
   "cell_type": "code",
   "execution_count": null,
   "metadata": {},
   "outputs": [],
   "source": [
    "std = df['loan_amount'].std()\n",
    "mean = df['loan_amount'].mean()\n",
    "\n",
    "# calculate the cutoff\n",
    "cut_off = std * 3\n",
    "\n",
    "# upper and lower limit \n",
    "lower, upper = mean - cut_off, mean + cut_off\n",
    "\n",
    "outlier_df = df[~((df['loan_amount'] < upper) & (df['loan_amount'] > lower))]\n",
    "outlier_df['loan_amount'].sort_values(ascending=False)"
   ]
  },
  {
   "cell_type": "code",
   "execution_count": null,
   "metadata": {},
   "outputs": [],
   "source": [
    "## loan_type\n",
    "## ============================================\n",
    "df['loan_type'] = helpers.convert_to_dtype(df['loan_type'], 'categorical')\n",
    "\n",
    "\n",
    "## loan_limit 3344 missing values\n",
    "# - CF = conforming loan \n",
    "# - NCF = non-conforming loan\n",
    "## ============================================\n",
    "df['loan_limit'] = df['loan_limit'].astype('category')\n",
    "df['loan_limit'].isna().sum()\n",
    "\n",
    "\n",
    "## loan_amount\n",
    "## ============================================\n",
    "df[['loan_amount']].boxplot()\n",
    "\n",
    "\n",
    "## loan_purpose\n",
    "## ============================================\n",
    "df['loan_purpose'] = helpers.convert_to_dtype(df['loan_purpose'], 'categorical')\n",
    "\n",
    "\n",
    "## lump_sum_payment\n",
    "## ============================================\n",
    "df['lump_sum_payment'].value_counts()\n",
    "\n",
    "lump_sum_mapping = {'not_lpsm': False, 'lpsm': True}  \n",
    "df['lump_sum_payment'] = df['lump_sum_payment'].map(lump_sum_mapping).astype('category')\n",
    "# df.groupby('status')['lump_sum_payment'].value_counts(normalize=True)\n",
    "\n",
    "\n",
    "## approv_in_adv -> missing 908\n",
    "## ============================================\n",
    "df['approv_in_adv'] = df['approv_in_adv'].astype('category')\n",
    "\n",
    "## term bin values? \n",
    "## ============================================\n",
    "df['term'].hist()\n",
    "\n",
    "\n",
    "## interest_only \n",
    "## ============================================\n",
    "'''\n",
    "What Is an Interest-Only Mortgage? An interest-only mortgage is a type of \n",
    "mortgage in which the mortgagor (the borrower) is required to pay only the \n",
    "interest on the loan for a certain period. The principal is repaid either \n",
    "in a lump sum at a specified date, or in subsequent payments.\n",
    "'''\n",
    "interest_only_mapping = {'not_int': False, 'int_only': True}  \n",
    "df['interest_only'] = df['interest_only'].map(interest_only_mapping).astype('category')\n",
    "df['interest_only'].value_counts()\n",
    "\n",
    "## neg_ammortization \n",
    "## ============================================\n",
    "df['neg_ammortization'] = df['neg_ammortization'].astype('category')\n",
    "\n",
    "df.groupby(TARGET).neg_ammortization.value_counts()"
   ]
  },
  {
   "cell_type": "code",
   "execution_count": null,
   "metadata": {},
   "outputs": [],
   "source": [
    "# df['loan_amount'].head(10)\n",
    "df.loc[df['loan_amount'].nsmallest(50).index,:]"
   ]
  },
  {
   "cell_type": "markdown",
   "metadata": {},
   "source": [
    "### Property related\n",
    "    - total_units (number of units bought?)\n",
    "    - business_or_commercial -> higher chance of default if biz/comm\n",
    "    - property_value\n",
    "    - occupancy_type\n",
    "    - ltv"
   ]
  },
  {
   "cell_type": "code",
   "execution_count": null,
   "metadata": {},
   "outputs": [],
   "source": [
    "## total_units \n",
    "## ============================================\n",
    "total_units_cat = pd.CategoricalDtype(categories=['1U', '2U', '3U', '4U'], ordered=True)\n",
    "df['total_units'] = df['total_units'].astype(total_units_cat)\n",
    "# df.groupby(TARGET)['total_units'].value_counts(normalize=True)\n",
    "\n",
    "\n",
    "## business_or_commercial \n",
    "## ============================================\n",
    "df['business_or_commercial'] = df['business_or_commercial'].astype('category')\n",
    "# df.groupby(TARGET)['business_or_commercial'].value_counts(normalize=True)\n",
    "\n",
    "\n",
    "## property_value \n",
    "## ============================================\n",
    "df[['property_value']]\n",
    "\n",
    "\n",
    "## occupancy_type \n",
    "## ============================================\n",
    "occupancy_type_map = {'pr': 'primary residence', 'sr': 'secondary residence', 'ir': 'investment residence'}\n",
    "df['occupancy_type'] = df['occupancy_type'].map(occupancy_type_map).astype('category')\n",
    "df['occupancy_type'].value_counts(normalize=True)\n",
    "\n",
    "## ltv \n",
    "## ============================================\n",
    "df[['ltv']]\n",
    "# df.groupby(TARGET)['total_units'].value_counts(normalize=True)"
   ]
  },
  {
   "cell_type": "code",
   "execution_count": null,
   "metadata": {},
   "outputs": [],
   "source": [
    "df.info()"
   ]
  },
  {
   "cell_type": "code",
   "execution_count": null,
   "metadata": {},
   "outputs": [],
   "source": [
    "property_value_nm = df[~df['property_value'].isna()]\n",
    "df['property_value'].isna().sum() / df.shape[0]\n",
    "property_value_nm['status'].value_counts(normalize=True)"
   ]
  },
  {
   "cell_type": "markdown",
   "metadata": {},
   "source": [
    "### upfront_charges, construction_type, interest_rate_spread\n",
    "- Missing values for all status with loan defaults\n",
    "- ??? "
   ]
  },
  {
   "cell_type": "code",
   "execution_count": null,
   "metadata": {},
   "outputs": [],
   "source": [
    "df.groupby(TARGET)['upfront_charges'].mean()\n",
    "\n",
    "# df.pivot_table(values=loan, index=TARGET)\n",
    "\n",
    "df['construction_type'].isna().sum()\n",
    "\n",
    "sns.histplot(data=df, x='interest_rate_spread', hue=TARGET)\n",
    "plt.show()"
   ]
  },
  {
   "cell_type": "markdown",
   "metadata": {},
   "source": [
    "### Loan purpose indepth"
   ]
  },
  {
   "cell_type": "code",
   "execution_count": null,
   "metadata": {},
   "outputs": [],
   "source": [
    "df['loan_purpose'].value_counts()\n",
    "\n",
    "cat_features = helpers.get_categorical_columns(df)\n",
    "\n",
    "for col in cat_features:\n",
    "    df_bar = df.groupby('loan_purpose')[col].value_counts().to_frame('counts').reset_index()\n",
    "    sns.catplot(data=df_bar, x='gender', y='counts', row='loan_purpose', kind='bar')"
   ]
  },
  {
   "cell_type": "code",
   "execution_count": null,
   "metadata": {},
   "outputs": [],
   "source": [
    "df.groupby(TARGET)['security_type'].value_counts()"
   ]
  },
  {
   "cell_type": "markdown",
   "metadata": {},
   "source": [
    "### Missing loan limits indepth"
   ]
  },
  {
   "cell_type": "code",
   "execution_count": null,
   "metadata": {},
   "outputs": [],
   "source": [
    "missing_loan_limits = df.loc[df['approv_in_adv'].isna()]\n",
    "non_missing_loan_limits = df.loc[~df['approv_in_adv'].isna()]\n",
    "\n",
    "missing_loan_limits = missing_loan_limits.drop(columns='approv_in_adv')\n",
    "\n",
    "display(missing_loan_limits.describe().T)\n",
    "display(non_missing_loan_limits.describe().T)\n",
    "\n",
    "sns.pairplot(missing_loan_limits)\n",
    "plotting.quick_plot(missing_loan_limits)"
   ]
  }
 ],
 "metadata": {
  "interpreter": {
   "hash": "570095cd93adf9a4e6271b94630cfbadf31bbfe8ef42337a7894ca3063fc1c9a"
  },
  "kernelspec": {
   "display_name": "Python 3.9.7 ('aml')",
   "language": "python",
   "name": "python3"
  },
  "language_info": {
   "codemirror_mode": {
    "name": "ipython",
    "version": 3
   },
   "file_extension": ".py",
   "mimetype": "text/x-python",
   "name": "python",
   "nbconvert_exporter": "python",
   "pygments_lexer": "ipython3",
   "version": "3.9.7"
  }
 },
 "nbformat": 4,
 "nbformat_minor": 2
}
