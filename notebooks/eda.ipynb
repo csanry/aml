{
 "cells": [
  {
   "cell_type": "markdown",
   "metadata": {},
   "source": [
    "1. [Libraries and Imports](#1)\n",
    "2. [Statistics](#2)\n",
    "3. [aa](#3)\n",
    "4. [bb](#4)\n",
    "5. [cc](#5)"
   ]
  },
  {
   "cell_type": "code",
   "execution_count": 1,
   "metadata": {},
   "outputs": [],
   "source": [
    "### Libraries and Imports"
   ]
  },
  {
   "cell_type": "code",
   "execution_count": 6,
   "metadata": {},
   "outputs": [],
   "source": [
    "# base \n",
    "import os \n",
    "import sys\n",
    "from src import helpers, config, plotting, evaluation\n",
    "import random \n",
    "import json \n",
    "import numpy as np\n",
    "import pandas as pd \n",
    "import pandas.api.types as types\n",
    "import matplotlib.pyplot as plt\n",
    "import matplotlib as mpl\n",
    "import seaborn as sns\n",
    "import missingno as msno\n",
    "import pickle\n",
    "from urllib.request import urlretrieve \n",
    "from typing import List, Set, Dict, Tuple\n",
    "from typing import Union, Any, Optional, Iterable, Hashable, Type\n",
    "\n",
    "# base\n",
    "from sklearn.base import TransformerMixin\n",
    "\n",
    "# ml preprocessing \n",
    "from sklearn.preprocessing import OneHotEncoder, LabelEncoder, StandardScaler, MinMaxScaler\n",
    "\n",
    "# models\n",
    "import xgboost as xgb\n",
    "from sklearn.ensemble import AdaBoostClassifier, VotingClassifier\n",
    "from sklearn.linear_model import LogisticRegression\n",
    "\n",
    "# validation \n",
    "from sklearn.model_selection import GridSearchCV, RandomizedSearchCV, train_test_split, cross_validate, KFold, StratifiedKFold\n",
    "from sklearn.metrics import accuracy_score, classification_report, confusion_matrix, f1_score, roc_curve, roc_auc_score, precision_score, recall_score, plot_confusion_matrix\n",
    "\n",
    "# pipelines \n",
    "from sklearn.pipeline import Pipeline, FeatureUnion\n",
    "from sklearn.compose import ColumnTransformer\n",
    "from sklearn.metrics import make_scorer\n",
    "\n",
    "# ignore warnings \n",
    "import warnings \n",
    "warnings.filterwarnings('ignore')\n",
    "\n",
    "from sklearn import set_config\n",
    "set_config(display='diagram')\n",
    "\n",
    "\n",
    "# yet to arrange\n",
    "from sklearn.svm import SVC\n",
    "from sklearn.impute import SimpleImputer \n",
    "from sklearn.pipeline import Pipeline\n",
    "from sklearn.multiclass import OneVsRestClassifier\n",
    "from sklearn.feature_extraction import DictVectorizer\n",
    "from sklearn.feature_extraction.text import CountVectorizer"
   ]
  },
  {
   "cell_type": "code",
   "execution_count": 7,
   "metadata": {},
   "outputs": [],
   "source": [
    "%matplotlib inline \n",
    "sns.set_style('white')\n",
    "sns.set_palette('deep')\n",
    "mpl.rcParams['figure.figsize'] = config.DEFAULT_FIGSIZE\n",
    "mpl.rcParams['lines.linewidth'] = config.DEFAULT_PLOT_LINEWIDTH\n",
    "mpl.rcParams['lines.linestyle'] = config.DEFAULT_PLOT_LINESTYLE\n",
    "mpl.rcParams['font.size'] = config.DEFAULT_AXIS_FONT_SIZE\n",
    "\n",
    "# logging settings \n",
    "# logging.basicConfig(level=logging.DEBUG, format='%(levelname)s:%(message)s')"
   ]
  },
  {
   "cell_type": "code",
   "execution_count": 8,
   "metadata": {},
   "outputs": [],
   "source": [
    "from pathlib import Path"
   ]
  },
  {
   "cell_type": "code",
   "execution_count": 9,
   "metadata": {},
   "outputs": [
    {
     "data": {
      "text/plain": [
       "PosixPath('/src/data/raw')"
      ]
     },
     "execution_count": 9,
     "metadata": {},
     "output_type": "execute_result"
    }
   ],
   "source": [
    "Path(config.RAW_FILE_PATH)"
   ]
  },
  {
   "cell_type": "code",
   "execution_count": 11,
   "metadata": {},
   "outputs": [
    {
     "data": {
      "text/plain": [
       "'/src'"
      ]
     },
     "execution_count": 11,
     "metadata": {},
     "output_type": "execute_result"
    }
   ],
   "source": [
    "config.ROOT_DIR"
   ]
  },
  {
   "cell_type": "code",
   "execution_count": null,
   "metadata": {},
   "outputs": [],
   "source": [
    "assert config.TRAIN_FILE_PATH == Path.cwd().parent / \"data\" / \"final\"\n",
    "assert config.REPORTS_PATH == Path.cwd().parent / \"reports\" / \"figures\"\n",
    "assert config.RAW_FILE_PATH == Path.cwd().parent / \"data\" / \"raw\""
   ]
  },
  {
   "cell_type": "code",
   "execution_count": null,
   "metadata": {},
   "outputs": [],
   "source": [
    "### Download and place data in the raw folder\n",
    "raw_filename = 'Loan_Default.csv'\n",
    "if os.path.exists(config.RAW_FILE_PATH / raw_filename): \n",
    "    print(f'READING FROM THE LOCAL COPY')\n",
    "    df = pd.read_csv(config.RAW_FILE_PATH / raw_filename)\n",
    "else: \n",
    "    print(f'FILE DOES NOT EXIST: {raw_filename}')\n",
    "    print('DOWNLOADING DATA >>>')\n",
    "    df = pd.read_csv('gs://aml_1/Loan_Default.csv')\n",
    "    df.to_csv(config.RAW_FILE_PATH / raw_filename)\n",
    "df.head()"
   ]
  },
  {
   "cell_type": "code",
   "execution_count": null,
   "metadata": {},
   "outputs": [],
   "source": [
    "# set the target column\n",
    "TARGET = 'status'"
   ]
  },
  {
   "cell_type": "markdown",
   "metadata": {},
   "source": [
    "### Overview of Data"
   ]
  },
  {
   "cell_type": "code",
   "execution_count": null,
   "metadata": {},
   "outputs": [],
   "source": [
    "plotting.quick_plot(df, hue_var=TARGET)"
   ]
  },
  {
   "cell_type": "markdown",
   "metadata": {},
   "source": [
    "### Statistics"
   ]
  },
  {
   "cell_type": "code",
   "execution_count": null,
   "metadata": {},
   "outputs": [],
   "source": [
    "helpers.quick_eda(df)"
   ]
  },
  {
   "cell_type": "markdown",
   "metadata": {},
   "source": [
    "### Correlations"
   ]
  },
  {
   "cell_type": "code",
   "execution_count": null,
   "metadata": {},
   "outputs": [],
   "source": [
    "plotting.plot_corr(df, rotate_xlabels=True)"
   ]
  },
  {
   "cell_type": "markdown",
   "metadata": {},
   "source": [
    "### Hypotheses \n",
    "\n",
    "1. To drop \n",
    "    - id -> UID\n",
    "    - year -> No variation \n",
    "    - interest_rate_spread -> Not able to discriminate\n",
    "\n",
    "1. Demographics\n",
    "    - Gender -> Joint less likely to default\n",
    "        - Engineer whether loan was joint or not\n",
    "        - Sex not provided\n",
    "\n",
    "2. Loan types \n",
    "    - loan_type -> what is a type 2 loan? \n",
    "    - loan_limit -> missing values -> ncf tends to default more \n",
    "    - lump_sum_payment -> \n",
    "    - approv_in_adv -> NA 908\n",
    "    - term -> most likely not going to be discriminating\n",
    "\n",
    "3. Purpose \n",
    "    - loan_purpose\n",
    "    - credit_worthiness\n",
    "    - open_credit -> imbalanced might not be worth to compute\n",
    "    - business_or_commercial -> higher chance of default if biz/comm\n",
    "    - \n",
    "\n",
    "4. Deterministic \n",
    "    - construction_type\n",
    "    \n",
    "\n",
    "loan_limit                    3344\n",
    "approv_in_adv                  908\n",
    "loan_purpose                   134\n",
    "rate_of_interest             36439\n",
    "upfront_charges              39642\n",
    "term                            41\n",
    "neg_ammortization              121\n",
    "interest_only                    0\n",
    "lump_sum_payment                 0\n",
    "property_value               15098\n",
    "occupancy_type                   0\n",
    "secured_by                       0"
   ]
  },
  {
   "cell_type": "markdown",
   "metadata": {},
   "source": [
    "### Target against X var"
   ]
  },
  {
   "cell_type": "code",
   "execution_count": null,
   "metadata": {},
   "outputs": [],
   "source": []
  }
 ],
 "metadata": {
  "interpreter": {
   "hash": "3a52cce4890713c3eae00fc9714213248a4bca02031d6e9b67ce5f0ff7e33b72"
  },
  "kernelspec": {
   "display_name": "Python 3 (ipykernel)",
   "language": "python",
   "name": "python3"
  },
  "language_info": {
   "codemirror_mode": {
    "name": "ipython",
    "version": 3
   },
   "file_extension": ".py",
   "mimetype": "text/x-python",
   "name": "python",
   "nbconvert_exporter": "python",
   "pygments_lexer": "ipython3",
   "version": "3.9.7"
  }
 },
 "nbformat": 4,
 "nbformat_minor": 4
}
