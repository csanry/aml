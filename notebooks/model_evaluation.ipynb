{
 "cells": [
  {
   "cell_type": "markdown",
   "metadata": {},
   "source": [
    "### Import necessary packages"
   ]
  },
  {
   "cell_type": "code",
   "execution_count": null,
   "metadata": {},
   "outputs": [],
   "source": [
    "import pandas as pd\n",
    "from src.model_dispatcher import large_models, small_models\n",
    "from src import config\n",
    "from src.evaluation import evaluate_report\n",
    "import matplotlib as mpl\n",
    "import matplotlib.pyplot as plt \n",
    "import seaborn as sns\n",
    "from sklearn.metrics import roc_curve, roc_auc_score\n",
    "\n",
    "\n",
    "%matplotlib inline\n",
    "\n",
    "sns.set_style(\"whitegrid\")\n",
    "sns.set_palette(\"deep\")\n",
    "mpl.rcParams['figure.figsize'] = config.DEFAULT_FIGSIZE\n",
    "mpl.rcParams['lines.linewidth'] = config.DEFAULT_PLOT_LINEWIDTH\n",
    "mpl.rcParams['lines.linestyle'] = config.DEFAULT_PLOT_LINESTYLE\n",
    "mpl.rcParams['font.size'] = config.DEFAULT_AXIS_FONT_SIZE\n",
    "\n",
    "pal = sns.color_palette(\"deep\")\n",
    "pal_hex = pal.as_hex()"
   ]
  },
  {
   "cell_type": "markdown",
   "metadata": {},
   "source": [
    "### Run #1 "
   ]
  },
  {
   "cell_type": "markdown",
   "metadata": {},
   "source": [
    "### Large loans model candidates"
   ]
  },
  {
   "cell_type": "code",
   "execution_count": null,
   "metadata": {},
   "outputs": [],
   "source": [
    "ll_test = pd.read_parquet(config.FIN_FILE_PATH / \"test_df_large_loans_300000.parquet\")\n",
    "\n",
    "X_large_test = ll_test.drop(columns=config.TARGET)\n",
    "y_large_test = ll_test[config.TARGET]"
   ]
  },
  {
   "cell_type": "code",
   "execution_count": null,
   "metadata": {},
   "outputs": [],
   "source": [
    "_, ax = plt.subplots()\n",
    "plt.tight_layout()\n",
    "plt.plot([0, 1], [0, 1], ls=\"--\", color=\"black\")\n",
    "plt.xlabel(\"FPR\")\n",
    "plt.ylabel(\"TPR\")\n",
    "plt.title(f\"Large loans - ROC Curves\")\n",
    "run = 0\n",
    "\n",
    "for name, model in large_models.items():\n",
    "    y_pred_prob = model.predict_proba(X_large_test)[:,1]\n",
    "    y_pred = model.predict(X_large_test)\n",
    "    fpr, tpr, _ = roc_curve(y_large_test, y_pred_prob)\n",
    "    auc = roc_auc_score(y_large_test, y_pred_prob)\n",
    "\n",
    "    ax.plot(\n",
    "        fpr, tpr, \n",
    "        label=f\"{name}: AUC {auc:.2%}\", \n",
    "        linestyle=\"solid\", \n",
    "        linewidth=2,\n",
    "        color=pal_hex[run]\n",
    "    )\n",
    "    run += 1\n",
    "\n",
    "ax.legend(loc=\"lower right\")\n",
    "plt.savefig(config.REPORTS_PATH / \"roc/all_large_models_300000.jpeg\", bbox_inches=\"tight\")\n",
    "plt.show()"
   ]
  },
  {
   "cell_type": "code",
   "execution_count": null,
   "metadata": {},
   "outputs": [],
   "source": [
    "ll_results = []\n",
    "\n",
    "for name, model in large_models.items():\n",
    "    y_pred_prob = model.predict_proba(X_large_test)[:,1]\n",
    "    y_pred = model.predict(X_large_test)\n",
    "    report = evaluate_report(y_test=y_large_test, y_pred=y_pred, y_pred_prob=y_pred_prob)\n",
    "    report[\"model\"] = name\n",
    "    ll_results.append(report)"
   ]
  },
  {
   "cell_type": "code",
   "execution_count": null,
   "metadata": {},
   "outputs": [],
   "source": [
    "# results\n",
    "large_model_metrics = pd.DataFrame(ll_results).set_index(\"model\")\n",
    "large_model_metrics"
   ]
  },
  {
   "cell_type": "markdown",
   "metadata": {},
   "source": [
    "### Small loans model candidates"
   ]
  },
  {
   "cell_type": "code",
   "execution_count": null,
   "metadata": {},
   "outputs": [],
   "source": [
    "sl_test = pd.read_parquet(config.FIN_FILE_PATH / \"test_df_small_loans_300000.parquet\")\n",
    "\n",
    "X_small_test = sl_test.drop(columns=config.TARGET)\n",
    "y_small_test = sl_test[config.TARGET]"
   ]
  },
  {
   "cell_type": "code",
   "execution_count": null,
   "metadata": {},
   "outputs": [],
   "source": [
    "_, ax = plt.subplots()\n",
    "plt.tight_layout()\n",
    "plt.plot([0, 1], [0, 1], ls=\"--\", color=\"black\")\n",
    "plt.xlabel(\"FPR\")\n",
    "plt.ylabel(\"TPR\")\n",
    "plt.title(f\"Small loans - ROC Curves\")\n",
    "run = 0\n",
    "\n",
    "for name, model in small_models.items():\n",
    "    y_pred_prob = model.predict_proba(X_small_test)[:,1]\n",
    "    y_pred = model.predict(X_small_test)\n",
    "    fpr, tpr, _ = roc_curve(y_small_test, y_pred_prob)\n",
    "    auc = roc_auc_score(y_small_test, y_pred_prob)\n",
    "\n",
    "    ax.plot(\n",
    "        fpr, tpr, \n",
    "        label=f\"{name}: AUC {auc:.2%}\", \n",
    "        linestyle=\"solid\", \n",
    "        linewidth=2,\n",
    "        color=pal_hex[run]\n",
    "    )\n",
    "    run += 1\n",
    "\n",
    "ax.legend(loc=\"lower right\")\n",
    "plt.savefig(config.REPORTS_PATH / \"roc/all_small_models_300000.jpeg\", bbox_inches=\"tight\")\n",
    "plt.show()"
   ]
  },
  {
   "cell_type": "code",
   "execution_count": null,
   "metadata": {},
   "outputs": [],
   "source": [
    "sl_results = []\n",
    "\n",
    "for name, model in small_models.items():\n",
    "    y_pred_prob = model.predict_proba(X_small_test)[:,1]\n",
    "    y_pred = model.predict(X_small_test)\n",
    "    report = evaluate_report(y_test=y_small_test, y_pred=y_pred, y_pred_prob=y_pred_prob)\n",
    "    report[\"model\"] = name\n",
    "    sl_results.append(report)"
   ]
  },
  {
   "cell_type": "code",
   "execution_count": null,
   "metadata": {},
   "outputs": [],
   "source": [
    "# results\n",
    "small_model_metrics = pd.DataFrame(sl_results).set_index(\"model\")\n",
    "small_model_metrics\n",
    "\n",
    "# export results to csv if needed\n",
    "# small_model_metrics.to_csv(\"small_model_metrics.csv\")"
   ]
  },
  {
   "cell_type": "code",
   "execution_count": null,
   "metadata": {},
   "outputs": [],
   "source": []
  }
 ],
 "metadata": {
  "kernelspec": {
   "display_name": "Python 3.9.7 ('aml')",
   "language": "python",
   "name": "python3"
  },
  "language_info": {
   "codemirror_mode": {
    "name": "ipython",
    "version": 3
   },
   "file_extension": ".py",
   "mimetype": "text/x-python",
   "name": "python",
   "nbconvert_exporter": "python",
   "pygments_lexer": "ipython3",
   "version": "3.9.7"
  },
  "vscode": {
   "interpreter": {
    "hash": "570095cd93adf9a4e6271b94630cfbadf31bbfe8ef42337a7894ca3063fc1c9a"
   }
  }
 },
 "nbformat": 4,
 "nbformat_minor": 2
}
